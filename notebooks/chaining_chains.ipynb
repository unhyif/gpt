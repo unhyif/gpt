{
 "cells": [
  {
   "cell_type": "code",
   "execution_count": 2,
   "metadata": {},
   "outputs": [],
   "source": [
    "from langchain.chat_models import ChatOpenAI\n",
    "from langchain.callbacks import StreamingStdOutCallbackHandler\n",
    "\n",
    "chat = ChatOpenAI(\n",
    "    temperature=0.1,\n",
    "    streaming=True,\n",
    "    callbacks=[\n",
    "        StreamingStdOutCallbackHandler(),\n",
    "    ],\n",
    ")"
   ]
  },
  {
   "cell_type": "code",
   "execution_count": 3,
   "metadata": {},
   "outputs": [],
   "source": [
    "from langchain.prompts import ChatPromptTemplate\n",
    "\n",
    "chef_prompt = ChatPromptTemplate.from_messages(\n",
    "    [\n",
    "        (\"human\", \"I want to cook {cuisine} food.\"),\n",
    "    ]\n",
    ")\n",
    "chef_chain = chef_prompt | chat\n",
    "\n",
    "veg_chef_prompt = ChatPromptTemplate.from_messages(\n",
    "    [\n",
    "        (\n",
    "            \"system\",\n",
    "            \"You are a vegetarian chef specialized on making traditional recipes vegetarian. You find alternative ingredients and explain their preparation. You don't radically modify the recipe. If there is no alternative for a food just say you don't know how to replace it.\",\n",
    "        ),\n",
    "        (\"human\", \"{recipe}\"),\n",
    "    ]\n",
    ")\n",
    "veg_chain = veg_chef_prompt | chat"
   ]
  },
  {
   "cell_type": "code",
   "execution_count": 4,
   "metadata": {},
   "outputs": [
    {
     "name": "stdout",
     "output_type": "stream",
     "text": [
      "That's great! Indian cuisine is known for its rich flavors and diverse range of dishes. Here's a simple recipe for you to try:\n",
      "\n",
      "Butter Chicken (Murgh Makhani):\n",
      "\n",
      "Ingredients:\n",
      "- 500g boneless chicken, cut into pieces\n",
      "- 2 tablespoons butter\n",
      "- 1 onion, finely chopped\n",
      "- 2 teaspoons ginger-garlic paste\n",
      "- 2 teaspoons red chili powder\n",
      "- 1 teaspoon turmeric powder\n",
      "- 1 teaspoon garam masala\n",
      "- 1 cup tomato puree\n",
      "- 1/2 cup heavy cream\n",
      "- Salt to taste\n",
      "- Fresh cilantro leaves for garnish\n",
      "\n",
      "Instructions:\n",
      "1. Heat butter in a pan over medium heat. Add the chopped onions and sauté until golden brown.\n",
      "2. Add ginger-garlic paste and sauté for another minute.\n",
      "3. Add red chili powder, turmeric powder, and garam masala. Mix well and cook for a minute.\n",
      "4. Add tomato puree and cook for 5-7 minutes until the oil separates from the mixture.\n",
      "5. Add the chicken pieces and cook until they are no longer pink.\n",
      "6. Reduce the heat to low, cover the pan, and let it simmer for about 15-20 minutes until the chicken is cooked through and tender.\n",
      "7. Stir in the heavy cream and season with salt. Cook for an additional 2-3 minutes.\n",
      "8. Garnish with fresh cilantro leaves and serve hot with naan bread or steamed rice.\n",
      "\n",
      "Enjoy your homemade Butter Chicken! Feel free to explore other Indian recipes like Biryani, Tikka Masala, or Palak Paneer.For a vegetarian version of Butter Chicken (Murgh Makhani), you can replace the chicken with a plant-based protein such as tofu or paneer (Indian cottage cheese). Here's how you can modify the recipe:\n",
      "\n",
      "Ingredients:\n",
      "- 500g tofu or paneer, cut into pieces\n",
      "- 2 tablespoons butter or vegan butter substitute\n",
      "- 1 onion, finely chopped\n",
      "- 2 teaspoons ginger-garlic paste\n",
      "- 2 teaspoons red chili powder\n",
      "- 1 teaspoon turmeric powder\n",
      "- 1 teaspoon garam masala\n",
      "- 1 cup tomato puree\n",
      "- 1/2 cup coconut cream or cashew cream (as a substitute for heavy cream)\n",
      "- Salt to taste\n",
      "- Fresh cilantro leaves for garnish\n",
      "\n",
      "Instructions:\n",
      "1. Heat butter in a pan over medium heat. Add the chopped onions and sauté until golden brown.\n",
      "2. Add ginger-garlic paste and sauté for another minute.\n",
      "3. Add red chili powder, turmeric powder, and garam masala. Mix well and cook for a minute.\n",
      "4. Add tomato puree and cook for 5-7 minutes until the oil separates from the mixture.\n",
      "5. Add the tofu or paneer pieces and cook until they are heated through.\n",
      "6. Reduce the heat to low, cover the pan, and let it simmer for about 15-20 minutes to allow the flavors to meld together.\n",
      "7. Stir in the coconut cream or cashew cream and season with salt. Cook for an additional 2-3 minutes.\n",
      "8. Garnish with fresh cilantro leaves and serve hot with naan bread or steamed rice.\n",
      "\n",
      "This vegetarian version of Butter Chicken will still have the rich flavors and creamy texture, making it a delicious alternative for vegetarians. Enjoy your meal!"
     ]
    },
    {
     "data": {
      "text/plain": [
       "AIMessageChunk(content=\"For a vegetarian version of Butter Chicken (Murgh Makhani), you can replace the chicken with a plant-based protein such as tofu or paneer (Indian cottage cheese). Here's how you can modify the recipe:\\n\\nIngredients:\\n- 500g tofu or paneer, cut into pieces\\n- 2 tablespoons butter or vegan butter substitute\\n- 1 onion, finely chopped\\n- 2 teaspoons ginger-garlic paste\\n- 2 teaspoons red chili powder\\n- 1 teaspoon turmeric powder\\n- 1 teaspoon garam masala\\n- 1 cup tomato puree\\n- 1/2 cup coconut cream or cashew cream (as a substitute for heavy cream)\\n- Salt to taste\\n- Fresh cilantro leaves for garnish\\n\\nInstructions:\\n1. Heat butter in a pan over medium heat. Add the chopped onions and sauté until golden brown.\\n2. Add ginger-garlic paste and sauté for another minute.\\n3. Add red chili powder, turmeric powder, and garam masala. Mix well and cook for a minute.\\n4. Add tomato puree and cook for 5-7 minutes until the oil separates from the mixture.\\n5. Add the tofu or paneer pieces and cook until they are heated through.\\n6. Reduce the heat to low, cover the pan, and let it simmer for about 15-20 minutes to allow the flavors to meld together.\\n7. Stir in the coconut cream or cashew cream and season with salt. Cook for an additional 2-3 minutes.\\n8. Garnish with fresh cilantro leaves and serve hot with naan bread or steamed rice.\\n\\nThis vegetarian version of Butter Chicken will still have the rich flavors and creamy texture, making it a delicious alternative for vegetarians. Enjoy your meal!\")"
      ]
     },
     "execution_count": 4,
     "metadata": {},
     "output_type": "execute_result"
    }
   ],
   "source": [
    "# Chaining Chains\n",
    "\n",
    "final_chain = {\"recipe\": chef_chain} | veg_chain\n",
    "final_chain.invoke({\"cuisine\": \"indian\"})"
   ]
  }
 ],
 "metadata": {
  "kernelspec": {
   "display_name": "env",
   "language": "python",
   "name": "python3"
  },
  "language_info": {
   "codemirror_mode": {
    "name": "ipython",
    "version": 3
   },
   "file_extension": ".py",
   "mimetype": "text/x-python",
   "name": "python",
   "nbconvert_exporter": "python",
   "pygments_lexer": "ipython3",
   "version": "3.11.6"
  }
 },
 "nbformat": 4,
 "nbformat_minor": 2
}
