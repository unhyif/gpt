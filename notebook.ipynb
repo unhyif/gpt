{
 "cells": [
  {
   "cell_type": "code",
   "execution_count": 106,
   "metadata": {},
   "outputs": [],
   "source": [
    "from langchain.chat_models import ChatOpenAI\n",
    "from langchain.callbacks import StreamingStdOutCallbackHandler\n",
    "from langchain.prompts import PromptTemplate, ChatPromptTemplate\n",
    "\n",
    "chat = ChatOpenAI(streaming=True, callbacks=[StreamingStdOutCallbackHandler()])"
   ]
  },
  {
   "cell_type": "code",
   "execution_count": 107,
   "metadata": {},
   "outputs": [
    {
     "name": "stdout",
     "output_type": "stream",
     "text": [
      "Svelte offers several advantages over other web development frameworks:\n",
      "\n",
      "1. Performance: Svelte compiles the code during the build process, resulting in highly optimized and efficient JavaScript code. It eliminates the need for a runtime framework, as the generated code is self-contained and does not require a virtual DOM or any additional libraries to run. This leads to faster loading times and smoother user experiences.\n",
      "\n",
      "2. Small bundle size: Svelte analyzes the code during compilation and only includes the necessary components and dependencies in the final bundle. This results in smaller bundle sizes compared to other frameworks, reducing the amount of data that needs to be downloaded by the client.\n",
      "\n",
      "3. Easy learning curve: Svelte's syntax is simple and intuitive, making it easier to learn and get started with compared to other frameworks like React or Angular. It has a minimalistic approach that focuses on the core concepts of web development, making it accessible to beginners and experienced developers alike.\n",
      "\n",
      "4. Framework-agnostic: Svelte can be used as a standalone library or integrated into existing projects without any major dependencies. It can also be used alongside other frameworks, allowing developers to choose components or sections of their application to be built with Svelte while using other frameworks for the rest.\n",
      "\n",
      "5. Reactive updates: Svelte utilizes a reactive approach, where changes in data are automatically propagated to the UI without the need for manual updates or re-rendering. This simplifies the development process and improves performance, as only the necessary parts of the UI are updated when data changes.\n",
      "\n",
      "6. SEO-friendly: Svelte generates HTML content during build time, which is beneficial for search engine optimization (SEO). Search engines can easily crawl and index the content, ensuring better visibility and ranking in search results.\n",
      "\n",
      "Overall, Svelte provides a lightweight, performant, and developer-friendly framework for building web applications. Its focus on simplicity, performance, and optimization make it an attractive choice for many developers.안녕하세요! 저는 프론트엔드 전문가입니다. Next.js는 React를 기반으로한 서버 사이드 렌더링 프레임워크입니다. Next.js의 장점은 다음과 같습니다:\n",
      "\n",
      "1. 서버 사이드 렌더링(SSR): Next.js는 페이지를 서버에서 사전에 렌더링하여 초기 로딩 속도를 향상시킵니다. SSR은 SEO에도 도움을 줄 수 있습니다.\n",
      "\n",
      "2. 코드 스플리팅: Next.js는 자동으로 코드를 청크로 분할하여 필요한 페이지만 로드합니다. 이를 통해 초기 페이지 로딩 속도를 개선할 수 있습니다.\n",
      "\n",
      "3. 핫 리로딩: Next.js는 개발 중에 수정된 내용을 즉시 반영하여 빠른 개발을 지원합니다.\n",
      "\n",
      "4. 자동 빌드 및 배포: Next.js는 자동으로 코드 변경을 감지하고 필요할 때마다 애플리케이션을 빌드하고 배포할 수 있습니다.\n",
      "\n",
      "5. 정적 사이트 생성(Static Site Generation, SSG): Next.js는 정적 사이트 생성을 지원하여 미리 렌더링된 페이지를 생성할 수 있습니다. 이를 통해 성능과 보안을 향상시킬 수 있습니다.\n",
      "\n",
      "제 이름은 OpenAI Assistant입니다. 도움이 필요하신 다른 점이 있으신가요?"
     ]
    },
    {
     "data": {
      "text/plain": [
       "AIMessageChunk(content='안녕하세요! 저는 프론트엔드 전문가입니다. Next.js는 React를 기반으로한 서버 사이드 렌더링 프레임워크입니다. Next.js의 장점은 다음과 같습니다:\\n\\n1. 서버 사이드 렌더링(SSR): Next.js는 페이지를 서버에서 사전에 렌더링하여 초기 로딩 속도를 향상시킵니다. SSR은 SEO에도 도움을 줄 수 있습니다.\\n\\n2. 코드 스플리팅: Next.js는 자동으로 코드를 청크로 분할하여 필요한 페이지만 로드합니다. 이를 통해 초기 페이지 로딩 속도를 개선할 수 있습니다.\\n\\n3. 핫 리로딩: Next.js는 개발 중에 수정된 내용을 즉시 반영하여 빠른 개발을 지원합니다.\\n\\n4. 자동 빌드 및 배포: Next.js는 자동으로 코드 변경을 감지하고 필요할 때마다 애플리케이션을 빌드하고 배포할 수 있습니다.\\n\\n5. 정적 사이트 생성(Static Site Generation, SSG): Next.js는 정적 사이트 생성을 지원하여 미리 렌더링된 페이지를 생성할 수 있습니다. 이를 통해 성능과 보안을 향상시킬 수 있습니다.\\n\\n제 이름은 OpenAI Assistant입니다. 도움이 필요하신 다른 점이 있으신가요?')"
      ]
     },
     "execution_count": 107,
     "metadata": {},
     "output_type": "execute_result"
    }
   ],
   "source": [
    "# Predict\n",
    "\n",
    "prompt = PromptTemplate.from_template(\n",
    "    \"What is the advantage of {frontend_stack}?\"\n",
    ").format(frontend_stack=\"Svelte\")\n",
    "chat.predict(prompt)\n",
    "\n",
    "prompt = ChatPromptTemplate.from_messages(\n",
    "    [\n",
    "        (\"system\", \"You are a frontend expert. Also, you only reply in {language}\"),\n",
    "        (\"ai\", \"{tone}\"),\n",
    "        (\"human\", \"What is the advantage of {frontend_stack}? Also, what's your name?\"),\n",
    "    ]\n",
    ").format_messages(language=\"Korean\", tone=\"안녕하세요!\", frontend_stack=\"Next.js\")\n",
    "chat.predict_messages(prompt)"
   ]
  },
  {
   "cell_type": "code",
   "execution_count": 108,
   "metadata": {},
   "outputs": [
    {
     "data": {
      "text/plain": [
       "['Hello', 'how', 'are', 'you']"
      ]
     },
     "execution_count": 108,
     "metadata": {},
     "output_type": "execute_result"
    }
   ],
   "source": [
    "# Output Parser\n",
    "\n",
    "from langchain.schema import BaseOutputParser\n",
    "\n",
    "\n",
    "class CommaOutputParser(BaseOutputParser):\n",
    "    def parse(self, text):\n",
    "        return list(map(str.strip, text.split(\",\")))\n",
    "\n",
    "\n",
    "parser = CommaOutputParser()\n",
    "parser.parse(\" Hello, how,are,you \")"
   ]
  },
  {
   "cell_type": "code",
   "execution_count": 109,
   "metadata": {},
   "outputs": [
    {
     "name": "stdout",
     "output_type": "stream",
     "text": [
      "html, css, javascript, responsive design, user experience"
     ]
    },
    {
     "data": {
      "text/plain": [
       "['html', 'css', 'javascript', 'responsive design', 'user experience']"
      ]
     },
     "execution_count": 109,
     "metadata": {},
     "output_type": "execute_result"
    }
   ],
   "source": [
    "# Langchain Expression Language\n",
    "\n",
    "prompt = ChatPromptTemplate.from_messages(\n",
    "    [\n",
    "        (\n",
    "            \"system\",\n",
    "            \"You are a list generating machine. Everything you are asked will be answered with a comma separated list of max {max_items} in lowercase. Do NOT reply with anything else\",\n",
    "        ),\n",
    "        (\"human\", \"{question}\"),\n",
    "    ]\n",
    ")\n",
    "chain = prompt | chat | parser\n",
    "chain.invoke(\n",
    "    {\"max_items\": 5, \"question\": \"Interesting things about frontend development\"}\n",
    ")"
   ]
  },
  {
   "cell_type": "code",
   "execution_count": 110,
   "metadata": {},
   "outputs": [
    {
     "name": "stdout",
     "output_type": "stream",
     "text": [
      "Great! Indian cuisine is known for its rich flavors and aromatic spices. Let's start with a classic Indian dish called Chicken Tikka Masala. Here's an easy recipe for you to try:\n",
      "\n",
      "Ingredients:\n",
      "- 500g boneless chicken, cut into bite-sized pieces\n",
      "- 1 cup plain yogurt\n",
      "- 2 tablespoons lemon juice\n",
      "- 2 tablespoons vegetable oil\n",
      "- 1 large onion, finely chopped\n",
      "- 3 cloves of garlic, minced\n",
      "- 1-inch piece of ginger, grated\n",
      "- 2 teaspoons ground cumin\n",
      "- 2 teaspoons ground coriander\n",
      "- 2 teaspoons garam masala\n",
      "- 1 teaspoon turmeric powder\n",
      "- 1 teaspoon paprika\n",
      "- 1 teaspoon chili powder (adjust to taste)\n",
      "- 1 cup tomato puree\n",
      "- 1 cup heavy cream\n",
      "- Salt, to taste\n",
      "- Fresh cilantro, for garnish\n",
      "- Steamed rice or naan bread, for serving\n",
      "\n",
      "Instructions:\n",
      "1. In a mixing bowl, combine the yogurt, lemon juice, 1 teaspoon cumin, 1 teaspoon coriander, 1 teaspoon garam masala, turmeric powder, paprika, chili powder, and salt. Mix well.\n",
      "2. Add the chicken pieces to the yogurt marinade and coat them evenly. Let it marinate for at least 1 hour or overnight in the refrigerator.\n",
      "3. Heat the vegetable oil in a large skillet or pan over medium heat. Add the chopped onions and cook until they turn golden brown.\n",
      "4. Add the minced garlic and grated ginger to the pan. Cook for another 2 minutes until fragrant.\n",
      "5. Add the remaining spices: 1 teaspoon cumin, 1 teaspoon coriander, and 1 teaspoon garam masala. Stir well to combine with the onion, garlic, and ginger.\n",
      "6. Pour in the tomato puree and cook for 5 minutes, stirring occasionally.\n",
      "7. Now, add the marinated chicken along with the marinade to the pan. Stir everything together and let it cook for about 10-15 minutes until the chicken is fully cooked and tender.\n",
      "8. Pour in the heavy cream and simmer for an additional 5 minutes, allowing the flavors to meld together. Adjust the salt and spices according to your taste.\n",
      "9. Garnish with fresh cilantro leaves and serve the Chicken Tikka Masala hot with steamed rice or naan bread.\n",
      "\n",
      "Enjoy your homemade Indian feast!To make a vegetarian version of Chicken Tikka Masala, we can replace the chicken with a plant-based protein such as tofu or paneer. Here's how you can modify the recipe:\n",
      "\n",
      "Ingredients:\n",
      "- 500g tofu or paneer, cut into bite-sized pieces\n",
      "- 1 cup plain yogurt (use vegan yogurt if desired)\n",
      "- 2 tablespoons lemon juice\n",
      "- 2 tablespoons vegetable oil\n",
      "- 1 large onion, finely chopped\n",
      "- 3 cloves of garlic, minced\n",
      "- 1-inch piece of ginger, grated\n",
      "- 2 teaspoons ground cumin\n",
      "- 2 teaspoons ground coriander\n",
      "- 2 teaspoons garam masala\n",
      "- 1 teaspoon turmeric powder\n",
      "- 1 teaspoon paprika\n",
      "- 1 teaspoon chili powder (adjust to taste)\n",
      "- 1 cup tomato puree\n",
      "- 1 cup coconut cream (or any dairy-free cream substitute)\n",
      "- Salt, to taste\n",
      "- Fresh cilantro, for garnish\n",
      "- Steamed rice or naan bread, for serving\n",
      "\n",
      "Instructions:\n",
      "1. In a mixing bowl, combine the yogurt, lemon juice, 1 teaspoon cumin, 1 teaspoon coriander, 1 teaspoon garam masala, turmeric powder, paprika, chili powder, and salt. Mix well.\n",
      "2. Add the tofu or paneer pieces to the yogurt marinade and coat them evenly. Let it marinate for at least 1 hour or overnight in the refrigerator.\n",
      "3. Heat the vegetable oil in a large skillet or pan over medium heat. Add the chopped onions and cook until they turn golden brown.\n",
      "4. Add the minced garlic and grated ginger to the pan. Cook for another 2 minutes until fragrant.\n",
      "5. Add the remaining spices: 1 teaspoon cumin, 1 teaspoon coriander, and 1 teaspoon garam masala. Stir well to combine with the onion, garlic, and ginger.\n",
      "6. Pour in the tomato puree and cook for 5 minutes, stirring occasionally.\n",
      "7. Now, add the marinated tofu or paneer along with the marinade to the pan. Stir everything together and let it cook for about 10-15 minutes until the tofu/paneer is heated through.\n",
      "8. Pour in the coconut cream and simmer for an additional 5 minutes, allowing the flavors to meld together. Adjust the salt and spices according to your taste.\n",
      "9. Garnish with fresh cilantro leaves and serve the Vegetarian Tikka Masala hot with steamed rice or naan bread.\n",
      "\n",
      "Enjoy your homemade vegetarian Indian feast!"
     ]
    },
    {
     "data": {
      "text/plain": [
       "AIMessageChunk(content=\"To make a vegetarian version of Chicken Tikka Masala, we can replace the chicken with a plant-based protein such as tofu or paneer. Here's how you can modify the recipe:\\n\\nIngredients:\\n- 500g tofu or paneer, cut into bite-sized pieces\\n- 1 cup plain yogurt (use vegan yogurt if desired)\\n- 2 tablespoons lemon juice\\n- 2 tablespoons vegetable oil\\n- 1 large onion, finely chopped\\n- 3 cloves of garlic, minced\\n- 1-inch piece of ginger, grated\\n- 2 teaspoons ground cumin\\n- 2 teaspoons ground coriander\\n- 2 teaspoons garam masala\\n- 1 teaspoon turmeric powder\\n- 1 teaspoon paprika\\n- 1 teaspoon chili powder (adjust to taste)\\n- 1 cup tomato puree\\n- 1 cup coconut cream (or any dairy-free cream substitute)\\n- Salt, to taste\\n- Fresh cilantro, for garnish\\n- Steamed rice or naan bread, for serving\\n\\nInstructions:\\n1. In a mixing bowl, combine the yogurt, lemon juice, 1 teaspoon cumin, 1 teaspoon coriander, 1 teaspoon garam masala, turmeric powder, paprika, chili powder, and salt. Mix well.\\n2. Add the tofu or paneer pieces to the yogurt marinade and coat them evenly. Let it marinate for at least 1 hour or overnight in the refrigerator.\\n3. Heat the vegetable oil in a large skillet or pan over medium heat. Add the chopped onions and cook until they turn golden brown.\\n4. Add the minced garlic and grated ginger to the pan. Cook for another 2 minutes until fragrant.\\n5. Add the remaining spices: 1 teaspoon cumin, 1 teaspoon coriander, and 1 teaspoon garam masala. Stir well to combine with the onion, garlic, and ginger.\\n6. Pour in the tomato puree and cook for 5 minutes, stirring occasionally.\\n7. Now, add the marinated tofu or paneer along with the marinade to the pan. Stir everything together and let it cook for about 10-15 minutes until the tofu/paneer is heated through.\\n8. Pour in the coconut cream and simmer for an additional 5 minutes, allowing the flavors to meld together. Adjust the salt and spices according to your taste.\\n9. Garnish with fresh cilantro leaves and serve the Vegetarian Tikka Masala hot with steamed rice or naan bread.\\n\\nEnjoy your homemade vegetarian Indian feast!\")"
      ]
     },
     "execution_count": 110,
     "metadata": {},
     "output_type": "execute_result"
    }
   ],
   "source": [
    "# Chaining Chains\n",
    "\n",
    "chef_prompt = ChatPromptTemplate.from_messages(\n",
    "    [\n",
    "        (\n",
    "            \"system\",\n",
    "            \"You are a world-class international chef. You create easy to follow recipes for any type of cuisine with easy to find ingredients.\",\n",
    "        ),\n",
    "        (\"human\", \"I want to cook {cuisine} food.\"),\n",
    "    ]\n",
    ")\n",
    "chef_chain = chef_prompt | chat\n",
    "\n",
    "veg_chef_prompt = ChatPromptTemplate.from_messages(\n",
    "    [\n",
    "        (\n",
    "            \"system\",\n",
    "            \"You are a vegetarian chef specialized on making traditional recipes vegetarian. You find alternative ingredients and explain their preparation. You don't radically modify the recipe. If there is no alternative for a food just say you don't know how to recipe it.\",\n",
    "        ),\n",
    "        (\"human\", \"{recipe}\"),\n",
    "    ]\n",
    ")\n",
    "veg_chef_chain = veg_chef_prompt | chat\n",
    "\n",
    "chain = {\"recipe\": chef_chain} | veg_chef_chain\n",
    "chain.invoke({\"cuisine\": \"indian\"})"
   ]
  },
  {
   "cell_type": "code",
   "execution_count": 139,
   "metadata": {},
   "outputs": [
    {
     "name": "stdout",
     "output_type": "stream",
     "text": [
      "AI: \n",
      "Here is what I know about Sweden:\n",
      "Capital: Stockholm\n",
      "Language: Swedish\n",
      "Food: Meatballs, herring, and lingonberries\n",
      "Currency: Swedish krona\n",
      "Famous for: Volvo cars, IKEA, ABBA, and beautiful landscapes such as the Northern Lights and the archipelago."
     ]
    },
    {
     "data": {
      "text/plain": [
       "AIMessageChunk(content='AI: \\nHere is what I know about Sweden:\\nCapital: Stockholm\\nLanguage: Swedish\\nFood: Meatballs, herring, and lingonberries\\nCurrency: Swedish krona\\nFamous for: Volvo cars, IKEA, ABBA, and beautiful landscapes such as the Northern Lights and the archipelago.')"
      ]
     },
     "execution_count": 139,
     "metadata": {},
     "output_type": "execute_result"
    }
   ],
   "source": [
    "# FewShotPromptTemplate\n",
    "\n",
    "from langchain.prompts.few_shot import (\n",
    "    FewShotPromptTemplate,\n",
    "    FewShotChatMessagePromptTemplate,\n",
    ")\n",
    "from langchain.prompts.example_selector import LengthBasedExampleSelector\n",
    "from langchain.prompts.example_selector.base import BaseExampleSelector\n",
    "\n",
    "examples = [\n",
    "    {\n",
    "        \"question\": \"What do you know about France?\",\n",
    "        \"answer\": \"\"\"\n",
    "Here is what I know:\n",
    "Capital: Paris\n",
    "Language: French\n",
    "Food: Wine and Cheese\n",
    "Currency: Euro\n",
    "\"\"\",\n",
    "    },\n",
    "    {\n",
    "        \"question\": \"What do you know about Italy?\",\n",
    "        \"answer\": \"\"\"\n",
    "I know this:\n",
    "Capital: Rome\n",
    "Language: Italian\n",
    "Food: Pizza and Pasta\n",
    "Currency: Euro\n",
    "\"\"\",\n",
    "    },\n",
    "    {\n",
    "        \"question\": \"What do you know about Greece?\",\n",
    "        \"answer\": \"\"\"\n",
    "I know this:\n",
    "Capital: Athens\n",
    "Language: Greek\n",
    "Food: Souvlaki and Feta Cheese\n",
    "Currency: Euro\n",
    "\"\"\",\n",
    "    },\n",
    "]\n",
    "\n",
    "\n",
    "class RandomExampleSelector(BaseExampleSelector):\n",
    "    def __init__(self, examples):\n",
    "        self.examples = examples\n",
    "\n",
    "    def add_example(self, example):\n",
    "        self.examples.append(example)\n",
    "\n",
    "    def select_examples(self, input_variables):\n",
    "        from random import choice\n",
    "\n",
    "        return [choice(self.examples)]\n",
    "\n",
    "\n",
    "template = \"Human: {question}\\nAI: {answer}\"\n",
    "prompt = PromptTemplate.from_template(template)\n",
    "selector = RandomExampleSelector(examples=examples)\n",
    "prompt = FewShotPromptTemplate(\n",
    "    example_prompt=prompt,\n",
    "    example_selector=selector,\n",
    "    suffix=\"Human: {question}\",\n",
    "    input_variables=[\"question\"],\n",
    ")\n",
    "\n",
    "chain = prompt | chat\n",
    "chain.invoke({\"question\": \"I wonder about Sweden\"})"
   ]
  },
  {
   "cell_type": "code",
   "execution_count": 112,
   "metadata": {},
   "outputs": [
    {
     "name": "stdout",
     "output_type": "stream",
     "text": [
      "I know this:\n",
      "Capital: Stockholm\n",
      "Language: Swedish\n",
      "Food: Meatballs and Smorgasbord\n",
      "Currency: Swedish Krona"
     ]
    },
    {
     "data": {
      "text/plain": [
       "AIMessageChunk(content='I know this:\\nCapital: Stockholm\\nLanguage: Swedish\\nFood: Meatballs and Smorgasbord\\nCurrency: Swedish Krona')"
      ]
     },
     "execution_count": 112,
     "metadata": {},
     "output_type": "execute_result"
    }
   ],
   "source": [
    "# FewShotChatMessagePromptTemplate\n",
    "\n",
    "examples = [\n",
    "    {\n",
    "        \"country\": \"France\",\n",
    "        \"answer\": \"\"\"\n",
    "Here is what I know:\n",
    "Capital: Paris\n",
    "Language: French\n",
    "Food: Wine and Cheese\n",
    "Currency: Euro\n",
    "\"\"\",\n",
    "    },\n",
    "    {\n",
    "        \"country\": \"Italy\",\n",
    "        \"answer\": \"\"\"\n",
    "I know this:\n",
    "Capital: Rome\n",
    "Language: Italian\n",
    "Food: Pizza and Pasta\n",
    "Currency: Euro\n",
    "\"\"\",\n",
    "    },\n",
    "    {\n",
    "        \"country\": \"Greece\",\n",
    "        \"answer\": \"\"\"\n",
    "I know this:\n",
    "Capital: Athens\n",
    "Language: Greek\n",
    "Food: Souvlaki and Feta Cheese\n",
    "Currency: Euro\n",
    "\"\"\",\n",
    "    },\n",
    "]\n",
    "\n",
    "prompt = ChatPromptTemplate.from_messages(\n",
    "    [(\"human\", \"What do you know about {country}?\"), (\"ai\", \"{answer}\")]\n",
    ")\n",
    "prompt = FewShotChatMessagePromptTemplate(\n",
    "    example_prompt=prompt,\n",
    "    examples=examples,\n",
    ")\n",
    "prompt = ChatPromptTemplate.from_messages(\n",
    "    [\n",
    "        (\"system\", \"You are a geography expert, you give short answers\"),\n",
    "        prompt,\n",
    "        (\"human\", \"What do you know about {country}?\"),\n",
    "    ]\n",
    ")\n",
    "\n",
    "chain = prompt | chat\n",
    "chain.invoke({\"country\": \"Sweden\"})"
   ]
  },
  {
   "cell_type": "code",
   "execution_count": null,
   "metadata": {},
   "outputs": [],
   "source": []
  }
 ],
 "metadata": {
  "kernelspec": {
   "display_name": "env",
   "language": "python",
   "name": "python3"
  },
  "language_info": {
   "codemirror_mode": {
    "name": "ipython",
    "version": 3
   },
   "file_extension": ".py",
   "mimetype": "text/x-python",
   "name": "python",
   "nbconvert_exporter": "python",
   "pygments_lexer": "ipython3",
   "version": "3.11.6"
  }
 },
 "nbformat": 4,
 "nbformat_minor": 2
}
