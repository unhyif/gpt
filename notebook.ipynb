{
 "cells": [
  {
   "cell_type": "code",
   "execution_count": 29,
   "metadata": {},
   "outputs": [
    {
     "data": {
      "text/plain": [
       "'There are several advantages of using Svelte as a JavaScript framework:\\n\\n1. Performance: Svelte compiles the code during the build process, which means it generates highly optimized and efficient code. This results in faster loading times and better overall performance compared to other frameworks.\\n\\n2. Small bundle size: Svelte generates small bundle sizes by eliminating the need for a runtime library. This reduces the amount of code that needs to be downloaded and executed by the browser, resulting in faster page loads.\\n\\n3. Framework-agnostic: Unlike many other frameworks, Svelte is not tied to a specific ecosystem or toolset. It can be easily integrated into existing projects or used with other libraries and frameworks.\\n\\n4. Easy learning curve: Svelte has a simpler and more intuitive syntax compared to other frameworks like React or Angular. This makes it easier for developers to learn and start building applications quickly.\\n\\n5. Reactive updates: Svelte uses a reactive approach, where the framework automatically updates the DOM when the underlying state changes. This eliminates the need for manual state management and reduces the chances of introducing bugs.\\n\\n6. Component-based architecture: Svelte promotes a component-based architecture, allowing developers to build reusable and modular UI components. This improves code organization, maintainability, and encourages code reusability.\\n\\n7. SEO-friendly: Svelte generates server-rendered HTML, which is beneficial for search engine optimization (SEO). Search engines can easily crawl and index the content, resulting in better visibility and rankings.\\n\\n8. Active community and ecosystem: Despite being a relatively newer framework, Svelte has gained a lot of popularity and has an active community. This means there are plenty of resources, tutorials, and libraries available for developers to leverage.\\n\\nOverall, Svelte offers improved performance, smaller bundle sizes, simplicity, and flexibility, making it a compelling choice for building modern web applications.'"
      ]
     },
     "execution_count": 29,
     "metadata": {},
     "output_type": "execute_result"
    }
   ],
   "source": [
    "from langchain.chat_models import ChatOpenAI\n",
    "from langchain.prompts import PromptTemplate, ChatPromptTemplate\n",
    "\n",
    "chat = ChatOpenAI()\n",
    "\n",
    "template = PromptTemplate.from_template(\"What is the advantage of {frontend_stack}?\")\n",
    "\n",
    "prompt = template.format(frontend_stack=\"Svelte\")\n",
    "\n",
    "answer = chat.predict(prompt)\n",
    "\n",
    "answer"
   ]
  },
  {
   "cell_type": "code",
   "execution_count": 30,
   "metadata": {},
   "outputs": [
    {
     "data": {
      "text/plain": [
       "AIMessage(content='안녕하세요! Next.js의 장점에는 몇 가지가 있습니다. \\n\\n첫째, 서버 사이드 렌더링(SSR)을 기본으로 제공하기 때문에 초기 로딩 속도가 빠릅니다. 이는 검색 엔진 최적화(SEO)에 유리하며, 사용자 경험을 향상시킵니다.\\n\\n둘째, 코드 스플리팅(Code splitting)을 자동으로 처리하여 필요한 컴포넌트들만 로드하므로 초기 번들 크기가 작아지고 성능이 향상됩니다.\\n\\n셋째, Hot Module Replacement(HMR)을 지원하여 개발 중인 코드를 수정할 때 즉시 반영되어 개발 생산성을 높일 수 있습니다.\\n\\n넷째, 강력한 라우팅 시스템을 제공하여 페이지 간 전환 및 동적 라우팅을 쉽게 구현할 수 있습니다.\\n\\n저는 AI 모델이기 때문에 이름을 갖지 않습니다. 그러나 여러분이 부르는 대로 대화를 이어나갈 수 있습니다! 무엇을 도와드릴까요?')"
      ]
     },
     "execution_count": 30,
     "metadata": {},
     "output_type": "execute_result"
    }
   ],
   "source": [
    "template = ChatPromptTemplate.from_messages(\n",
    "    [\n",
    "        (\"system\", \"You are a frontend expert. Also, you only reply in {language}\"),\n",
    "        (\"ai\", \"{tone}\"),\n",
    "        (\"human\", \"What is the advantage of {frontend_stack}? Also, What's your name?\"),\n",
    "    ]\n",
    ")\n",
    "\n",
    "prompt = template.format_messages(\n",
    "    language=\"Korean\", tone=\"안녕하세요!\", frontend_stack=\"Next.js\"\n",
    ")\n",
    "\n",
    "chat.predict_messages(prompt)"
   ]
  },
  {
   "cell_type": "code",
   "execution_count": 31,
   "metadata": {},
   "outputs": [
    {
     "data": {
      "text/plain": [
       "['Hello', 'how', 'are', 'you']"
      ]
     },
     "execution_count": 31,
     "metadata": {},
     "output_type": "execute_result"
    }
   ],
   "source": [
    "from langchain.schema import BaseOutputParser\n",
    "\n",
    "\n",
    "class CommaOutputParser(BaseOutputParser):\n",
    "    def parse(self, text):\n",
    "        return list(map(str.strip, text.split(\",\")))\n",
    "\n",
    "\n",
    "parser = CommaOutputParser()\n",
    "\n",
    "parser.parse(\" Hello, how,are,you \")"
   ]
  },
  {
   "cell_type": "code",
   "execution_count": 32,
   "metadata": {},
   "outputs": [],
   "source": [
    "template = ChatPromptTemplate.from_messages(\n",
    "    [\n",
    "        (\n",
    "            \"system\",\n",
    "            \"You are a list generating machine. Everything you are asked will be answered with a comma separated list of max {max_items} in lowercase. Do NOT reply with anything else\",\n",
    "        ),\n",
    "        (\"human\", \"{question}\"),\n",
    "    ]\n",
    ")"
   ]
  },
  {
   "cell_type": "code",
   "execution_count": 38,
   "metadata": {},
   "outputs": [
    {
     "data": {
      "text/plain": [
       "['html', 'css', 'javascript', 'responsive design', 'user experience']"
      ]
     },
     "execution_count": 38,
     "metadata": {},
     "output_type": "execute_result"
    }
   ],
   "source": [
    "chain = template | chat | parser\n",
    "\n",
    "chain.invoke(\n",
    "    {\"max_items\": 5, \"question\": \"Interesting things about frontend development\"}\n",
    ")"
   ]
  },
  {
   "cell_type": "code",
   "execution_count": null,
   "metadata": {},
   "outputs": [],
   "source": []
  }
 ],
 "metadata": {
  "kernelspec": {
   "display_name": "env",
   "language": "python",
   "name": "python3"
  },
  "language_info": {
   "codemirror_mode": {
    "name": "ipython",
    "version": 3
   },
   "file_extension": ".py",
   "mimetype": "text/x-python",
   "name": "python",
   "nbconvert_exporter": "python",
   "pygments_lexer": "ipython3",
   "version": "3.11.6"
  }
 },
 "nbformat": 4,
 "nbformat_minor": 2
}
