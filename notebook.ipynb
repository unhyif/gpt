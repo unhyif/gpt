{
 "cells": [
  {
   "cell_type": "code",
   "execution_count": 88,
   "metadata": {},
   "outputs": [
    {
     "name": "stdout",
     "output_type": "stream",
     "text": [
      "There are several advantages of using Svelte:\n",
      "\n",
      "1. Performance: Svelte compiles the code during the build process, resulting in highly optimized and efficient code. It generates minimal and lightweight JavaScript bundles, which leads to faster loading times and improved overall performance.\n",
      "\n",
      "2. Framework size: Svelte is a compiler rather than a runtime framework, which means it doesn't require a large framework library to be bundled with the application. This results in smaller bundle sizes, reducing the amount of code that needs to be fetched by the client.\n",
      "\n",
      "3. Developer experience: Svelte offers a clean and intuitive syntax, making it easier to learn and work with. It provides a simple and straightforward component-based approach, enhancing developer productivity and enabling faster development cycles.\n",
      "\n",
      "4. Reactive state management: Svelte has built-in reactivity, allowing developers to easily manage state within their components. It automatically tracks dependencies and updates the DOM efficiently, reducing the need for manual state management and reducing boilerplate code.\n",
      "\n",
      "5. Easy integration: Svelte can be easily integrated into existing projects, allowing developers to gradually adopt it without rewriting the entire codebase. It also provides a seamless integration with popular JavaScript libraries and frameworks, making it flexible and adaptable.\n",
      "\n",
      "6. Accessibility: Svelte provides accessibility features out of the box, ensuring that applications built with it are accessible to users with disabilities. It generates accessible markup and provides built-in ARIA attributes and keyboard navigation support.\n",
      "\n",
      "7. Community and ecosystem: Although relatively new compared to other frameworks, Svelte has a growing and active community. It has a steadily increasing number of plugins, libraries, and tools that enhance its functionality and provide additional features.\n",
      "\n",
      "Overall, the advantages of Svelte include better performance, smaller bundle sizes, improved developer experience, efficient state management, easy integration, accessibility, and a growing ecosystem."
     ]
    },
    {
     "data": {
      "text/plain": [
       "\"There are several advantages of using Svelte:\\n\\n1. Performance: Svelte compiles the code during the build process, resulting in highly optimized and efficient code. It generates minimal and lightweight JavaScript bundles, which leads to faster loading times and improved overall performance.\\n\\n2. Framework size: Svelte is a compiler rather than a runtime framework, which means it doesn't require a large framework library to be bundled with the application. This results in smaller bundle sizes, reducing the amount of code that needs to be fetched by the client.\\n\\n3. Developer experience: Svelte offers a clean and intuitive syntax, making it easier to learn and work with. It provides a simple and straightforward component-based approach, enhancing developer productivity and enabling faster development cycles.\\n\\n4. Reactive state management: Svelte has built-in reactivity, allowing developers to easily manage state within their components. It automatically tracks dependencies and updates the DOM efficiently, reducing the need for manual state management and reducing boilerplate code.\\n\\n5. Easy integration: Svelte can be easily integrated into existing projects, allowing developers to gradually adopt it without rewriting the entire codebase. It also provides a seamless integration with popular JavaScript libraries and frameworks, making it flexible and adaptable.\\n\\n6. Accessibility: Svelte provides accessibility features out of the box, ensuring that applications built with it are accessible to users with disabilities. It generates accessible markup and provides built-in ARIA attributes and keyboard navigation support.\\n\\n7. Community and ecosystem: Although relatively new compared to other frameworks, Svelte has a growing and active community. It has a steadily increasing number of plugins, libraries, and tools that enhance its functionality and provide additional features.\\n\\nOverall, the advantages of Svelte include better performance, smaller bundle sizes, improved developer experience, efficient state management, easy integration, accessibility, and a growing ecosystem.\""
      ]
     },
     "execution_count": 88,
     "metadata": {},
     "output_type": "execute_result"
    }
   ],
   "source": [
    "from langchain.chat_models import ChatOpenAI\n",
    "from langchain.prompts import PromptTemplate, ChatPromptTemplate\n",
    "from langchain.prompts.few_shot import FewShotPromptTemplate\n",
    "from langchain.callbacks import StreamingStdOutCallbackHandler\n",
    "\n",
    "chat = ChatOpenAI(streaming=True, callbacks=[StreamingStdOutCallbackHandler()])\n",
    "\n",
    "template = PromptTemplate.from_template(\"What is the advantage of {frontend_stack}?\")\n",
    "\n",
    "prompt = template.format(frontend_stack=\"Svelte\")\n",
    "\n",
    "answer = chat.predict(prompt)\n",
    "\n",
    "answer"
   ]
  },
  {
   "cell_type": "code",
   "execution_count": 89,
   "metadata": {},
   "outputs": [
    {
     "name": "stdout",
     "output_type": "stream",
     "text": [
      "안녕하세요! 저는 미리암입니다.\n",
      "\n",
      "Next.js는 여러 가지 장점이 있습니다. 첫째로, Next.js는 React를 기반으로 한 프레임워크로서, React의 모든 기능과 생태계를 활용할 수 있습니다. 두 번째로, 서버 사이드 렌더링을 제공하여 초기 로딩 속도를 향상시킬 수 있고, 검색 엔진 최적화(SEO)에도 도움이 됩니다. 세 번째로, 코드 스플리팅을 자동으로 처리하여 페이지 간의 이동 시에 필요한 자원만 다운로드하므로 성능을 향상시킵니다. 또한, Hot Module Replacement(HMR)을 지원하여 개발 과정에서의 빠른 반영을 가능하게 합니다. 다음으로, Next.js는 정적 사이트 생성기(Static Site Generator)로도 사용할 수 있어서, 정적인 콘텐츠를 빌드할 때도 유용합니다. 마지막으로, Next.js는 매우 간편하게 설정이 가능하고, 고급 기능들도 쉽게 사용할 수 있어 개발자에게 편의를 제공합니다.\n",
      "\n",
      "Next.js는 이러한 장점들로 인해 많은 개발자들에게 인기가 있습니다."
     ]
    },
    {
     "data": {
      "text/plain": [
       "AIMessageChunk(content='안녕하세요! 저는 미리암입니다.\\n\\nNext.js는 여러 가지 장점이 있습니다. 첫째로, Next.js는 React를 기반으로 한 프레임워크로서, React의 모든 기능과 생태계를 활용할 수 있습니다. 두 번째로, 서버 사이드 렌더링을 제공하여 초기 로딩 속도를 향상시킬 수 있고, 검색 엔진 최적화(SEO)에도 도움이 됩니다. 세 번째로, 코드 스플리팅을 자동으로 처리하여 페이지 간의 이동 시에 필요한 자원만 다운로드하므로 성능을 향상시킵니다. 또한, Hot Module Replacement(HMR)을 지원하여 개발 과정에서의 빠른 반영을 가능하게 합니다. 다음으로, Next.js는 정적 사이트 생성기(Static Site Generator)로도 사용할 수 있어서, 정적인 콘텐츠를 빌드할 때도 유용합니다. 마지막으로, Next.js는 매우 간편하게 설정이 가능하고, 고급 기능들도 쉽게 사용할 수 있어 개발자에게 편의를 제공합니다.\\n\\nNext.js는 이러한 장점들로 인해 많은 개발자들에게 인기가 있습니다.')"
      ]
     },
     "execution_count": 89,
     "metadata": {},
     "output_type": "execute_result"
    }
   ],
   "source": [
    "template = ChatPromptTemplate.from_messages(\n",
    "    [\n",
    "        (\"system\", \"You are a frontend expert. Also, you only reply in {language}\"),\n",
    "        (\"ai\", \"{tone}\"),\n",
    "        (\"human\", \"What is the advantage of {frontend_stack}? Also, What's your name?\"),\n",
    "    ]\n",
    ")\n",
    "\n",
    "prompt = template.format_messages(\n",
    "    language=\"Korean\", tone=\"안녕하세요!\", frontend_stack=\"Next.js\"\n",
    ")\n",
    "\n",
    "chat.predict_messages(prompt)"
   ]
  },
  {
   "cell_type": "code",
   "execution_count": 90,
   "metadata": {},
   "outputs": [
    {
     "data": {
      "text/plain": [
       "['Hello', 'how', 'are', 'you']"
      ]
     },
     "execution_count": 90,
     "metadata": {},
     "output_type": "execute_result"
    }
   ],
   "source": [
    "from langchain.schema import BaseOutputParser\n",
    "\n",
    "\n",
    "class CommaOutputParser(BaseOutputParser):\n",
    "    def parse(self, text):\n",
    "        return list(map(str.strip, text.split(\",\")))\n",
    "\n",
    "\n",
    "parser = CommaOutputParser()\n",
    "\n",
    "parser.parse(\" Hello, how,are,you \")"
   ]
  },
  {
   "cell_type": "code",
   "execution_count": 91,
   "metadata": {},
   "outputs": [],
   "source": [
    "template = ChatPromptTemplate.from_messages(\n",
    "    [\n",
    "        (\n",
    "            \"system\",\n",
    "            \"You are a list generating machine. Everything you are asked will be answered with a comma separated list of max {max_items} in lowercase. Do NOT reply with anything else\",\n",
    "        ),\n",
    "        (\"human\", \"{question}\"),\n",
    "    ]\n",
    ")"
   ]
  },
  {
   "cell_type": "code",
   "execution_count": 92,
   "metadata": {},
   "outputs": [
    {
     "name": "stdout",
     "output_type": "stream",
     "text": [
      "html, css, javascript, responsive design, user experience"
     ]
    },
    {
     "data": {
      "text/plain": [
       "['html', 'css', 'javascript', 'responsive design', 'user experience']"
      ]
     },
     "execution_count": 92,
     "metadata": {},
     "output_type": "execute_result"
    }
   ],
   "source": [
    "chain = template | chat | parser\n",
    "\n",
    "chain.invoke(\n",
    "    {\"max_items\": 5, \"question\": \"Interesting things about frontend development\"}\n",
    ")"
   ]
  },
  {
   "cell_type": "code",
   "execution_count": 93,
   "metadata": {},
   "outputs": [],
   "source": [
    "chef_prompt = ChatPromptTemplate.from_messages(\n",
    "    [\n",
    "        (\n",
    "            \"system\",\n",
    "            \"You are a world-class international chef. You create easy to follow recipes for any type of cuisine with easy to find ingredients.\",\n",
    "        ),\n",
    "        (\"human\", \"I want to cook {cuisine} food.\"),\n",
    "    ]\n",
    ")\n",
    "\n",
    "chef_chain = chef_prompt | chat"
   ]
  },
  {
   "cell_type": "code",
   "execution_count": 94,
   "metadata": {},
   "outputs": [
    {
     "name": "stdout",
     "output_type": "stream",
     "text": [
      "Great! Indian cuisine is known for its rich flavors and aromatic spices. Here's a recipe for a classic Indian dish called Chicken Tikka Masala:\n",
      "\n",
      "Ingredients:\n",
      "- 500g boneless chicken, cut into bite-sized pieces\n",
      "- 1 cup plain yogurt\n",
      "- 2 tablespoons lemon juice\n",
      "- 2 tablespoons vegetable oil\n",
      "- 1 large onion, finely chopped\n",
      "- 4 cloves of garlic, minced\n",
      "- 1-inch piece of ginger, grated\n",
      "- 2 teaspoons ground cumin\n",
      "- 2 teaspoons ground coriander\n",
      "- 1 teaspoon turmeric powder\n",
      "- 1 teaspoon paprika\n",
      "- 1 teaspoon garam masala\n",
      "- 1 teaspoon chili powder (adjust to taste)\n",
      "- 1 cup tomato puree\n",
      "- 1 cup heavy cream\n",
      "- Salt, to taste\n",
      "- Fresh cilantro leaves, for garnish\n",
      "- Cooked basmati rice or naan bread, for serving\n",
      "\n",
      "Instructions:\n",
      "1. In a large bowl, mix yogurt, lemon juice, 1 teaspoon of cumin, 1 teaspoon of coriander, turmeric powder, paprika, and chili powder. Add the chicken pieces and marinate for at least 30 minutes (or overnight in the refrigerator for more flavor).\n",
      "\n",
      "2. Heat oil in a large skillet or pan over medium heat. Add the chopped onions and sauté until golden brown (about 5-7 minutes).\n",
      "\n",
      "3. Add garlic and ginger to the skillet and cook for another 1-2 minutes until fragrant.\n",
      "\n",
      "4. Stir in the remaining cumin, coriander, garam masala, and tomato puree. Cook for 2-3 minutes, stirring continuously.\n",
      "\n",
      "5. Add the marinated chicken along with the marinade to the skillet. Cook over medium heat for about 10 minutes until the chicken is cooked through.\n",
      "\n",
      "6. Reduce the heat to low and stir in the heavy cream. Simmer for another 5 minutes until the sauce thickens slightly. Add salt to taste.\n",
      "\n",
      "7. Serve the Chicken Tikka Masala over basmati rice or with warm naan bread. Garnish with fresh cilantro leaves.\n",
      "\n",
      "Enjoy your homemade Chicken Tikka Masala!For a vegetarian version of Chicken Tikka Masala, you can replace the chicken with a plant-based alternative such as tofu or paneer (Indian cheese). Here's how you can modify the recipe:\n",
      "\n",
      "Ingredients:\n",
      "- 500g tofu or paneer, cut into bite-sized pieces\n",
      "- 1 cup plain yogurt (you can use non-dairy yogurt for a vegan version)\n",
      "- 2 tablespoons lemon juice\n",
      "- 2 tablespoons vegetable oil\n",
      "- 1 large onion, finely chopped\n",
      "- 4 cloves of garlic, minced\n",
      "- 1-inch piece of ginger, grated\n",
      "- 2 teaspoons ground cumin\n",
      "- 2 teaspoons ground coriander\n",
      "- 1 teaspoon turmeric powder\n",
      "- 1 teaspoon paprika\n",
      "- 1 teaspoon garam masala\n",
      "- 1 teaspoon chili powder (adjust to taste)\n",
      "- 1 cup tomato puree\n",
      "- 1 cup coconut milk (or non-dairy cream for a vegan version)\n",
      "- Salt, to taste\n",
      "- Fresh cilantro leaves, for garnish\n",
      "- Cooked basmati rice or naan bread, for serving\n",
      "\n",
      "Instructions:\n",
      "1. In a large bowl, mix yogurt, lemon juice, 1 teaspoon of cumin, 1 teaspoon of coriander, turmeric powder, paprika, and chili powder. Add the tofu or paneer pieces and marinate for at least 30 minutes (or longer for more flavor).\n",
      "\n",
      "2. Heat oil in a large skillet or pan over medium heat. Add the chopped onions and sauté until golden brown (about 5-7 minutes).\n",
      "\n",
      "3. Add garlic and ginger to the skillet and cook for another 1-2 minutes until fragrant.\n",
      "\n",
      "4. Stir in the remaining cumin, coriander, garam masala, and tomato puree. Cook for 2-3 minutes, stirring continuously.\n",
      "\n",
      "5. Add the marinated tofu or paneer along with the marinade to the skillet. Cook over medium heat for about 10 minutes until the tofu or paneer is heated through.\n",
      "\n",
      "6. Reduce the heat to low and stir in the coconut milk. Simmer for another 5 minutes until the sauce thickens slightly. Add salt to taste.\n",
      "\n",
      "7. Serve the vegetarian Tikka Masala over basmati rice or with warm naan bread. Garnish with fresh cilantro leaves.\n",
      "\n",
      "Enjoy your homemade Vegetarian Tikka Masala!"
     ]
    },
    {
     "data": {
      "text/plain": [
       "AIMessageChunk(content=\"For a vegetarian version of Chicken Tikka Masala, you can replace the chicken with a plant-based alternative such as tofu or paneer (Indian cheese). Here's how you can modify the recipe:\\n\\nIngredients:\\n- 500g tofu or paneer, cut into bite-sized pieces\\n- 1 cup plain yogurt (you can use non-dairy yogurt for a vegan version)\\n- 2 tablespoons lemon juice\\n- 2 tablespoons vegetable oil\\n- 1 large onion, finely chopped\\n- 4 cloves of garlic, minced\\n- 1-inch piece of ginger, grated\\n- 2 teaspoons ground cumin\\n- 2 teaspoons ground coriander\\n- 1 teaspoon turmeric powder\\n- 1 teaspoon paprika\\n- 1 teaspoon garam masala\\n- 1 teaspoon chili powder (adjust to taste)\\n- 1 cup tomato puree\\n- 1 cup coconut milk (or non-dairy cream for a vegan version)\\n- Salt, to taste\\n- Fresh cilantro leaves, for garnish\\n- Cooked basmati rice or naan bread, for serving\\n\\nInstructions:\\n1. In a large bowl, mix yogurt, lemon juice, 1 teaspoon of cumin, 1 teaspoon of coriander, turmeric powder, paprika, and chili powder. Add the tofu or paneer pieces and marinate for at least 30 minutes (or longer for more flavor).\\n\\n2. Heat oil in a large skillet or pan over medium heat. Add the chopped onions and sauté until golden brown (about 5-7 minutes).\\n\\n3. Add garlic and ginger to the skillet and cook for another 1-2 minutes until fragrant.\\n\\n4. Stir in the remaining cumin, coriander, garam masala, and tomato puree. Cook for 2-3 minutes, stirring continuously.\\n\\n5. Add the marinated tofu or paneer along with the marinade to the skillet. Cook over medium heat for about 10 minutes until the tofu or paneer is heated through.\\n\\n6. Reduce the heat to low and stir in the coconut milk. Simmer for another 5 minutes until the sauce thickens slightly. Add salt to taste.\\n\\n7. Serve the vegetarian Tikka Masala over basmati rice or with warm naan bread. Garnish with fresh cilantro leaves.\\n\\nEnjoy your homemade Vegetarian Tikka Masala!\")"
      ]
     },
     "execution_count": 94,
     "metadata": {},
     "output_type": "execute_result"
    }
   ],
   "source": [
    "veg_chef_prompt = ChatPromptTemplate.from_messages(\n",
    "    [\n",
    "        (\n",
    "            \"system\",\n",
    "            \"You are a vegetarian chef specialized on making traditional recipes vegetarian. You find alternative ingredients and explain their preparation. You don't radically modify the recipe. If there is no alternative for a food just say you don't know how to recipe it.\",\n",
    "        ),\n",
    "        (\"human\", \"{recipe}\"),\n",
    "    ]\n",
    ")\n",
    "\n",
    "veg_chef_chain = veg_chef_prompt | chat\n",
    "\n",
    "final_chain = {\"recipe\": chef_chain} | veg_chef_chain\n",
    "\n",
    "final_chain.invoke({\"cuisine\": \"indian\"})"
   ]
  },
  {
   "cell_type": "code",
   "execution_count": 95,
   "metadata": {},
   "outputs": [
    {
     "name": "stdout",
     "output_type": "stream",
     "text": [
      "AI: \n",
      "I can provide you with some information about Sweden:\n",
      "Capital: Stockholm\n",
      "Language: Swedish\n",
      "Food: Meatballs, herring, and cinnamon buns\n",
      "Currency: Swedish krona\n",
      "Sweden is known for its beautiful landscapes, high standard of living, and innovative design. It is also famous for its welfare system and commitment to sustainability."
     ]
    },
    {
     "data": {
      "text/plain": [
       "AIMessageChunk(content='AI: \\nI can provide you with some information about Sweden:\\nCapital: Stockholm\\nLanguage: Swedish\\nFood: Meatballs, herring, and cinnamon buns\\nCurrency: Swedish krona\\nSweden is known for its beautiful landscapes, high standard of living, and innovative design. It is also famous for its welfare system and commitment to sustainability.')"
      ]
     },
     "execution_count": 95,
     "metadata": {},
     "output_type": "execute_result"
    }
   ],
   "source": [
    "examples = [\n",
    "    {\n",
    "        \"question\": \"What do you know about France?\",\n",
    "        \"answer\": \"\"\"\n",
    "Here is what I know:\n",
    "Capital: Paris\n",
    "Language: French\n",
    "Food: Wine and Cheese\n",
    "Currency: Euro\n",
    "\"\"\",\n",
    "    },\n",
    "    {\n",
    "        \"question\": \"What do you know about Italy?\",\n",
    "        \"answer\": \"\"\"\n",
    "I know this:\n",
    "Capital: Rome\n",
    "Language: Italian\n",
    "Food: Pizza and Pasta\n",
    "Currency: Euro\n",
    "\"\"\",\n",
    "    },\n",
    "    {\n",
    "        \"question\": \"What do you know about Greece?\",\n",
    "        \"answer\": \"\"\"\n",
    "I know this:\n",
    "Capital: Athens\n",
    "Language: Greek\n",
    "Food: Souvlaki and Feta Cheese\n",
    "Currency: Euro\n",
    "\"\"\",\n",
    "    },\n",
    "]\n",
    "\n",
    "example_template = \"Human: {question}\\nAI: {answer}\"\n",
    "\n",
    "example_prompt = PromptTemplate.from_template(example_template)\n",
    "\n",
    "few_shot_prompt = FewShotPromptTemplate(\n",
    "    example_prompt=example_prompt,\n",
    "    examples=examples,\n",
    "    suffix=\"Human: {question}\",\n",
    "    input_variables=[\"question\"],\n",
    ")\n",
    "\n",
    "chain = few_shot_prompt | chat\n",
    "\n",
    "chain.invoke({\"question\": \"I wonder about Sweden\"})"
   ]
  },
  {
   "cell_type": "code",
   "execution_count": null,
   "metadata": {},
   "outputs": [],
   "source": []
  }
 ],
 "metadata": {
  "kernelspec": {
   "display_name": "env",
   "language": "python",
   "name": "python3"
  },
  "language_info": {
   "codemirror_mode": {
    "name": "ipython",
    "version": 3
   },
   "file_extension": ".py",
   "mimetype": "text/x-python",
   "name": "python",
   "nbconvert_exporter": "python",
   "pygments_lexer": "ipython3",
   "version": "3.11.6"
  }
 },
 "nbformat": 4,
 "nbformat_minor": 2
}
