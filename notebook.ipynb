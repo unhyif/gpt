{
 "cells": [
  {
   "cell_type": "code",
   "execution_count": 22,
   "metadata": {},
   "outputs": [
    {
     "data": {
      "text/plain": [
       "\"Svelte offers several advantages over other JavaScript frameworks and libraries:\\n\\n1. Performance: Svelte compiles the application code at build time, resulting in a highly optimized and efficient output. This leads to faster loading times and better runtime performance compared to frameworks that rely on a virtual DOM.\\n\\n2. Small bundle size: Svelte generates minimal and optimized JavaScript bundles, resulting in smaller file sizes. This leads to faster initial page load times, especially on slow network connections or mobile devices.\\n\\n3. No virtual DOM: Unlike other frameworks, Svelte doesn't use a virtual DOM for rendering updates. Instead, it compiles the code into highly efficient imperative code that directly manipulates the DOM. This eliminates the overhead of virtual DOM diffing and provides better control over the rendering process.\\n\\n4. Component reusability: Svelte promotes component-based architecture, allowing developers to create reusable UI components. These components encapsulate their own styles, behavior, and state, making them easier to manage, test, and share across different projects.\\n\\n5. Easy learning curve: Svelte follows a simple and intuitive syntax that is easy to understand, especially for developers who are already familiar with HTML, CSS, and JavaScript. Its minimalistic approach and clear documentation make it accessible for beginners as well.\\n\\n6. Reactive programming: Svelte leverages reactive programming concepts, allowing developers to declaratively define reactive statements and automatically update the UI when underlying data changes. This simplifies state management and reduces the amount of boilerplate code needed.\\n\\n7. SEO-friendly: Since Svelte generates optimized and server-rendered HTML, it is more search engine friendly compared to single-page applications that rely solely on client-side rendering.\\n\\n8. Active community and ecosystem: Svelte has a growing community of developers and an expanding ecosystem of plugins, tools, and integrations. This ensures good support, regular updates, and a wealth of resources to help developers build applications using Svelte.\\n\\nOverall, the advantages of Svelte include improved performance, smaller bundle size, component reusability, simplicity, and an active community, making it a compelling choice for building modern web applications.\""
      ]
     },
     "execution_count": 22,
     "metadata": {},
     "output_type": "execute_result"
    }
   ],
   "source": [
    "from langchain.chat_models import ChatOpenAI\n",
    "from langchain.prompts import PromptTemplate, ChatPromptTemplate\n",
    "\n",
    "chat = ChatOpenAI()\n",
    "\n",
    "template = PromptTemplate.from_template(\"What is the advantage of {frontend_stack}?\")\n",
    "\n",
    "prompt = template.format(frontend_stack=\"Svelte\")\n",
    "\n",
    "answer = chat.predict(prompt)\n",
    "\n",
    "answer"
   ]
  },
  {
   "cell_type": "code",
   "execution_count": 23,
   "metadata": {},
   "outputs": [
    {
     "data": {
      "text/plain": [
       "AIMessage(content='안녕하세요! 저는 뉴럴링크입니다.\\n\\nNext.js는 여러 가지 장점을 가지고 있습니다. 첫째, 서버 사이드 렌더링(SSR)을 지원하여 초기 로딩 속도를 향상시키고 검색 엔진 최적화(SEO)를 개선할 수 있습니다. 또한, 정적 사이트 생성(Static Site Generation) 기능을 제공하여 사전 렌더링된 페이지를 생성하고 캐싱하여 성능을 향상시킬 수 있습니다. 또한, 개발 편의성을 위해 코드 스플리팅(Code Splitting), Hot Module Replacement(HMR) 등의 기능을 내장하고 있어 개발 과정을 보다 효율적으로 할 수 있습니다. 뿐만 아니라, Next.js는 React와의 호환성이 뛰어나고, 강력한 라우팅 시스템을 가지고 있어 복잡한 페이지 구조를 관리하기에 용이합니다.\\n\\nNext.js는 이러한 장점들을 통해 웹 개발 프로세스를 단순화하고 성능을 향상시키는데 도움을 줍니다.')"
      ]
     },
     "execution_count": 23,
     "metadata": {},
     "output_type": "execute_result"
    }
   ],
   "source": [
    "template = ChatPromptTemplate.from_messages(\n",
    "    [\n",
    "        (\"system\", \"You are a frontend expert. Also, you only reply in {language}\"),\n",
    "        (\"ai\", \"{tone}\"),\n",
    "        (\"human\", \"What is the advantage of {frontend_stack}? Also, What's your name?\"),\n",
    "    ]\n",
    ")\n",
    "\n",
    "prompt = template.format_messages(\n",
    "    language=\"Korean\", tone=\"안녕하세요!\", frontend_stack=\"Next.js\"\n",
    ")\n",
    "\n",
    "chat.predict_messages(prompt)"
   ]
  },
  {
   "cell_type": "code",
   "execution_count": 24,
   "metadata": {},
   "outputs": [
    {
     "data": {
      "text/plain": [
       "['Hello', 'how', 'are', 'you']"
      ]
     },
     "execution_count": 24,
     "metadata": {},
     "output_type": "execute_result"
    }
   ],
   "source": [
    "from langchain.schema import BaseOutputParser\n",
    "\n",
    "\n",
    "class CommaOutputParser(BaseOutputParser):\n",
    "    def parse(self, text):\n",
    "        return list(map(str.strip, text.split(\",\")))\n",
    "\n",
    "\n",
    "parser = CommaOutputParser()\n",
    "\n",
    "parser.parse(\" Hello, how,are,you \")"
   ]
  },
  {
   "cell_type": "code",
   "execution_count": 26,
   "metadata": {},
   "outputs": [
    {
     "data": {
      "text/plain": [
       "['html',\n",
       " 'css',\n",
       " 'javascript',\n",
       " 'typescript',\n",
       " 'react',\n",
       " 'angular',\n",
       " 'vue',\n",
       " 'sass',\n",
       " 'less',\n",
       " 'stylus']"
      ]
     },
     "execution_count": 26,
     "metadata": {},
     "output_type": "execute_result"
    }
   ],
   "source": [
    "template = ChatPromptTemplate.from_messages(\n",
    "    [\n",
    "        (\n",
    "            \"system\",\n",
    "            \"You are a list generating machine. Everything you are asked will be answered with a comma separated list of max {max_items} in lowercase. Do NOT reply with anything else\",\n",
    "        ),\n",
    "        (\"human\", \"{question}\"),\n",
    "    ]\n",
    ")\n",
    "\n",
    "prompt = template.format_messages(\n",
    "    max_items=10, question=\"What languages can be used for frontend development?\"\n",
    ")\n",
    "\n",
    "answer = chat.predict_messages(prompt)\n",
    "\n",
    "parser.parse(answer.content)"
   ]
  },
  {
   "cell_type": "code",
   "execution_count": null,
   "metadata": {},
   "outputs": [],
   "source": []
  }
 ],
 "metadata": {
  "kernelspec": {
   "display_name": "env",
   "language": "python",
   "name": "python3"
  },
  "language_info": {
   "codemirror_mode": {
    "name": "ipython",
    "version": 3
   },
   "file_extension": ".py",
   "mimetype": "text/x-python",
   "name": "python",
   "nbconvert_exporter": "python",
   "pygments_lexer": "ipython3",
   "version": "3.11.6"
  }
 },
 "nbformat": 4,
 "nbformat_minor": 2
}
