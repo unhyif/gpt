{
 "cells": [
  {
   "cell_type": "code",
   "execution_count": 2,
   "metadata": {},
   "outputs": [],
   "source": [
    "from langchain.chat_models import ChatOpenAI\n",
    "from langchain.callbacks import StreamingStdOutCallbackHandler\n",
    "from langchain.prompts import PromptTemplate, ChatPromptTemplate\n",
    "\n",
    "chat = ChatOpenAI(streaming=True, callbacks=[StreamingStdOutCallbackHandler()])"
   ]
  },
  {
   "cell_type": "code",
   "execution_count": 3,
   "metadata": {},
   "outputs": [
    {
     "name": "stdout",
     "output_type": "stream",
     "text": [
      "Svelte offers several advantages over other front-end frameworks:\n",
      "\n",
      "1. Performance: Svelte compiles the code during build time, resulting in a small and efficient JavaScript bundle. It eliminates overhead and reduces the size of the application, leading to faster loading times and improved performance.\n",
      "\n",
      "2. Small footprint: Svelte has a small footprint, which means it requires fewer dependencies and less code compared to other frameworks. This makes it ideal for projects with limited resources or for building fast, lightweight applications.\n",
      "\n",
      "3. Reactive updates: Svelte uses a reactive programming model, where changes in the application state automatically update the DOM. This approach eliminates the need for a virtual DOM, resulting in faster rendering and a more efficient user interface.\n",
      "\n",
      "4. Easy learning curve: Svelte has a simple and intuitive syntax, making it easy to learn for developers who are new to front-end development or coming from other frameworks. Its approach is closer to traditional HTML, CSS, and JavaScript, which simplifies the development process.\n",
      "\n",
      "5. Strong developer experience: Svelte provides a rich developer experience with features like built-in state management, component-level CSS, and easy integration with tools like TypeScript and IDEs. It also has excellent documentation and an active community, which makes it easier to find support and resources.\n",
      "\n",
      "6. Compatibility: Svelte can work seamlessly with other frameworks or libraries. It can be used as a complete framework to build an entire application or as a component-based library in existing projects. This flexibility allows developers to integrate Svelte into their workflow without rewriting their entire codebase.\n",
      "\n",
      "Overall, Svelte's advantages lie in its performance, small footprint, ease of use, developer experience, and compatibility, making it a compelling choice for building modern web applications.Next.js의 장점은 다음과 같습니다:\n",
      "\n",
      "1. 서버 사이드 렌더링 (SSR): Next.js는 서버에서 페이지를 렌더링하기 때문에 초기 로딩 속도가 빠르고 SEO에 이점이 있습니다.\n",
      "\n",
      "2. 정적 사이트 생성 (SSG): Next.js는 사전에 빌드된 정적 파일을 제공하여 성능을 향상시킵니다.\n",
      "\n",
      "3. 자동 코드 분할: Next.js는 페이지별로 자동으로 코드를 분할하여 최적의 번들링을 제공하므로 초기 로딩 시간을 최소화합니다.\n",
      "\n",
      "4. 개발자 경험: Next.js는 기본적으로 프레임워크와 라우터를 제공하여 개발 프로세스를 단순화하고 생산성을 높입니다.\n",
      "\n",
      "저는 AI로 구축된 가상 도우미이기 때문에 개인의 이름을 가지고 있지 않습니다. 다른 질문이 있으면 언제든지 물어보세요!"
     ]
    },
    {
     "data": {
      "text/plain": [
       "AIMessageChunk(content='Next.js의 장점은 다음과 같습니다:\\n\\n1. 서버 사이드 렌더링 (SSR): Next.js는 서버에서 페이지를 렌더링하기 때문에 초기 로딩 속도가 빠르고 SEO에 이점이 있습니다.\\n\\n2. 정적 사이트 생성 (SSG): Next.js는 사전에 빌드된 정적 파일을 제공하여 성능을 향상시킵니다.\\n\\n3. 자동 코드 분할: Next.js는 페이지별로 자동으로 코드를 분할하여 최적의 번들링을 제공하므로 초기 로딩 시간을 최소화합니다.\\n\\n4. 개발자 경험: Next.js는 기본적으로 프레임워크와 라우터를 제공하여 개발 프로세스를 단순화하고 생산성을 높입니다.\\n\\n저는 AI로 구축된 가상 도우미이기 때문에 개인의 이름을 가지고 있지 않습니다. 다른 질문이 있으면 언제든지 물어보세요!')"
      ]
     },
     "execution_count": 3,
     "metadata": {},
     "output_type": "execute_result"
    }
   ],
   "source": [
    "# Predict\n",
    "\n",
    "prompt = PromptTemplate.from_template(\n",
    "    \"What is the advantage of {frontend_stack}?\"\n",
    ").format(frontend_stack=\"Svelte\")\n",
    "chat.predict(prompt)\n",
    "\n",
    "prompt = ChatPromptTemplate.from_messages(\n",
    "    [\n",
    "        (\"system\", \"You are a frontend expert. Also, you only reply in {language}\"),\n",
    "        (\"ai\", \"{tone}\"),\n",
    "        (\"human\", \"What is the advantage of {frontend_stack}? Also, what's your name?\"),\n",
    "    ]\n",
    ").format_messages(language=\"Korean\", tone=\"안녕하세요!\", frontend_stack=\"Next.js\")\n",
    "chat.predict_messages(prompt)"
   ]
  },
  {
   "cell_type": "code",
   "execution_count": 4,
   "metadata": {},
   "outputs": [
    {
     "data": {
      "text/plain": [
       "['Hello', 'how', 'are', 'you']"
      ]
     },
     "execution_count": 4,
     "metadata": {},
     "output_type": "execute_result"
    }
   ],
   "source": [
    "# Output Parser\n",
    "\n",
    "from langchain.schema import BaseOutputParser\n",
    "\n",
    "\n",
    "class CommaOutputParser(BaseOutputParser):\n",
    "    def parse(self, text):\n",
    "        return list(map(str.strip, text.split(\",\")))\n",
    "\n",
    "\n",
    "parser = CommaOutputParser()\n",
    "parser.parse(\" Hello, how,are,you \")"
   ]
  },
  {
   "cell_type": "code",
   "execution_count": 5,
   "metadata": {},
   "outputs": [
    {
     "name": "stdout",
     "output_type": "stream",
     "text": [
      "html, css, javascript, responsive design, user experience"
     ]
    },
    {
     "data": {
      "text/plain": [
       "['html', 'css', 'javascript', 'responsive design', 'user experience']"
      ]
     },
     "execution_count": 5,
     "metadata": {},
     "output_type": "execute_result"
    }
   ],
   "source": [
    "# Langchain Expression Language\n",
    "\n",
    "prompt = ChatPromptTemplate.from_messages(\n",
    "    [\n",
    "        (\n",
    "            \"system\",\n",
    "            \"You are a list generating machine. Everything you are asked will be answered with a comma separated list of max {max_items} in lowercase. Do NOT reply with anything else\",\n",
    "        ),\n",
    "        (\"human\", \"{question}\"),\n",
    "    ]\n",
    ")\n",
    "chain = prompt | chat | parser\n",
    "chain.invoke(\n",
    "    {\"max_items\": 5, \"question\": \"Interesting things about frontend development\"}\n",
    ")"
   ]
  },
  {
   "cell_type": "code",
   "execution_count": 6,
   "metadata": {},
   "outputs": [
    {
     "name": "stdout",
     "output_type": "stream",
     "text": [
      "Great choice! Indian cuisine is known for its bold flavors and aromatic spices. Here's a recipe for a classic Indian dish called Butter Chicken:\n",
      "\n",
      "Ingredients:\n",
      "- 500g boneless chicken, cut into bite-sized pieces\n",
      "- 2 tablespoons butter\n",
      "- 1 tablespoon vegetable oil\n",
      "- 1 onion, finely chopped\n",
      "- 2 teaspoons garlic paste\n",
      "- 2 teaspoons ginger paste\n",
      "- 2 teaspoons garam masala (Indian spice blend)\n",
      "- 1 teaspoon turmeric powder\n",
      "- 1 teaspoon chili powder (adjust according to your spice preference)\n",
      "- 1 cup tomato puree\n",
      "- 1 cup heavy cream\n",
      "- Salt to taste\n",
      "- Fresh cilantro leaves for garnish\n",
      "\n",
      "Instructions:\n",
      "1. Heat the butter and oil in a large pan over medium heat. Add the chopped onion and sauté until golden brown.\n",
      "2. Add the garlic and ginger paste to the pan and cook for another minute until fragrant.\n",
      "3. In a small bowl, mix together the garam masala, turmeric powder, and chili powder. Add this spice mixture to the pan and cook for a minute, stirring constantly.\n",
      "4. Add the chicken pieces to the pan and cook until they are lightly browned on all sides.\n",
      "5. Pour in the tomato puree and season with salt. Stir well and let it simmer for about 10 minutes, allowing the flavors to meld together.\n",
      "6. Pour in the heavy cream, stirring continuously. Reduce the heat to low and let it simmer for another 10-15 minutes until the chicken is cooked through and the sauce thickens.\n",
      "7. Taste and adjust the seasoning if needed.\n",
      "8. Garnish with fresh cilantro leaves and serve hot with steamed rice or naan bread.\n",
      "\n",
      "Enjoy your homemade Butter Chicken! It pairs perfectly with fragrant basmati rice or freshly baked naan bread.For a vegetarian version of Butter Chicken, you can replace the chicken with a vegetarian protein alternative such as tofu or paneer (Indian cottage cheese). Here's how you can modify the recipe:\n",
      "\n",
      "Ingredients:\n",
      "- 500g tofu or paneer, cut into bite-sized pieces\n",
      "- 2 tablespoons butter\n",
      "- 1 tablespoon vegetable oil\n",
      "- 1 onion, finely chopped\n",
      "- 2 teaspoons garlic paste\n",
      "- 2 teaspoons ginger paste\n",
      "- 2 teaspoons garam masala (Indian spice blend)\n",
      "- 1 teaspoon turmeric powder\n",
      "- 1 teaspoon chili powder (adjust according to your spice preference)\n",
      "- 1 cup tomato puree\n",
      "- 1 cup heavy cream (you can substitute with coconut milk for a vegan version)\n",
      "- Salt to taste\n",
      "- Fresh cilantro leaves for garnish\n",
      "\n",
      "Instructions:\n",
      "1. Heat the butter and oil in a large pan over medium heat. Add the chopped onion and sauté until golden brown.\n",
      "2. Add the garlic and ginger paste to the pan and cook for another minute until fragrant.\n",
      "3. In a small bowl, mix together the garam masala, turmeric powder, and chili powder. Add this spice mixture to the pan and cook for a minute, stirring constantly.\n",
      "4. Add the tofu or paneer pieces to the pan and cook until they are lightly browned on all sides.\n",
      "5. Pour in the tomato puree and season with salt. Stir well and let it simmer for about 10 minutes, allowing the flavors to meld together.\n",
      "6. Pour in the heavy cream or coconut milk, stirring continuously. Reduce the heat to low and let it simmer for another 10-15 minutes until the tofu or paneer is heated through and the sauce thickens.\n",
      "7. Taste and adjust the seasoning if needed.\n",
      "8. Garnish with fresh cilantro leaves and serve hot with fragrant basmati rice or freshly baked naan bread.\n",
      "\n",
      "Enjoy your vegetarian Butter Chicken!"
     ]
    },
    {
     "data": {
      "text/plain": [
       "AIMessageChunk(content=\"For a vegetarian version of Butter Chicken, you can replace the chicken with a vegetarian protein alternative such as tofu or paneer (Indian cottage cheese). Here's how you can modify the recipe:\\n\\nIngredients:\\n- 500g tofu or paneer, cut into bite-sized pieces\\n- 2 tablespoons butter\\n- 1 tablespoon vegetable oil\\n- 1 onion, finely chopped\\n- 2 teaspoons garlic paste\\n- 2 teaspoons ginger paste\\n- 2 teaspoons garam masala (Indian spice blend)\\n- 1 teaspoon turmeric powder\\n- 1 teaspoon chili powder (adjust according to your spice preference)\\n- 1 cup tomato puree\\n- 1 cup heavy cream (you can substitute with coconut milk for a vegan version)\\n- Salt to taste\\n- Fresh cilantro leaves for garnish\\n\\nInstructions:\\n1. Heat the butter and oil in a large pan over medium heat. Add the chopped onion and sauté until golden brown.\\n2. Add the garlic and ginger paste to the pan and cook for another minute until fragrant.\\n3. In a small bowl, mix together the garam masala, turmeric powder, and chili powder. Add this spice mixture to the pan and cook for a minute, stirring constantly.\\n4. Add the tofu or paneer pieces to the pan and cook until they are lightly browned on all sides.\\n5. Pour in the tomato puree and season with salt. Stir well and let it simmer for about 10 minutes, allowing the flavors to meld together.\\n6. Pour in the heavy cream or coconut milk, stirring continuously. Reduce the heat to low and let it simmer for another 10-15 minutes until the tofu or paneer is heated through and the sauce thickens.\\n7. Taste and adjust the seasoning if needed.\\n8. Garnish with fresh cilantro leaves and serve hot with fragrant basmati rice or freshly baked naan bread.\\n\\nEnjoy your vegetarian Butter Chicken!\")"
      ]
     },
     "execution_count": 6,
     "metadata": {},
     "output_type": "execute_result"
    }
   ],
   "source": [
    "# Chaining Chains\n",
    "\n",
    "chef_prompt = ChatPromptTemplate.from_messages(\n",
    "    [\n",
    "        (\n",
    "            \"system\",\n",
    "            \"You are a world-class international chef. You create easy to follow recipes for any type of cuisine with easy to find ingredients.\",\n",
    "        ),\n",
    "        (\"human\", \"I want to cook {cuisine} food.\"),\n",
    "    ]\n",
    ")\n",
    "chef_chain = chef_prompt | chat\n",
    "\n",
    "veg_chef_prompt = ChatPromptTemplate.from_messages(\n",
    "    [\n",
    "        (\n",
    "            \"system\",\n",
    "            \"You are a vegetarian chef specialized on making traditional recipes vegetarian. You find alternative ingredients and explain their preparation. You don't radically modify the recipe. If there is no alternative for a food just say you don't know how to recipe it.\",\n",
    "        ),\n",
    "        (\"human\", \"{recipe}\"),\n",
    "    ]\n",
    ")\n",
    "veg_chef_chain = veg_chef_prompt | chat\n",
    "\n",
    "chain = {\"recipe\": chef_chain} | veg_chef_chain\n",
    "chain.invoke({\"cuisine\": \"indian\"})"
   ]
  },
  {
   "cell_type": "code",
   "execution_count": 7,
   "metadata": {},
   "outputs": [
    {
     "name": "stdout",
     "output_type": "stream",
     "text": [
      "AI: \n",
      "Sweden is a Nordic country located in Northern Europe. Here are some facts about Sweden:\n",
      "\n",
      "Capital: Stockholm\n",
      "Language: Swedish\n",
      "Currency: Swedish Krona\n",
      "Government: Constitutional monarchy\n",
      "Population: Approximately 10 million\n",
      "Famous for: Viking history, beautiful landscapes, IKEA, ABBA, and Swedish meatballs\n",
      "Notable landmarks: Stockholm Palace, Vasa Museum, and the Icehotel in Jukkasjärvi\n",
      "Interesting fact: Sweden is known for its high standard of living and is consistently ranked as one of the world's happiest countries."
     ]
    },
    {
     "data": {
      "text/plain": [
       "AIMessageChunk(content=\"AI: \\nSweden is a Nordic country located in Northern Europe. Here are some facts about Sweden:\\n\\nCapital: Stockholm\\nLanguage: Swedish\\nCurrency: Swedish Krona\\nGovernment: Constitutional monarchy\\nPopulation: Approximately 10 million\\nFamous for: Viking history, beautiful landscapes, IKEA, ABBA, and Swedish meatballs\\nNotable landmarks: Stockholm Palace, Vasa Museum, and the Icehotel in Jukkasjärvi\\nInteresting fact: Sweden is known for its high standard of living and is consistently ranked as one of the world's happiest countries.\")"
      ]
     },
     "execution_count": 7,
     "metadata": {},
     "output_type": "execute_result"
    }
   ],
   "source": [
    "# FewShotPromptTemplate, Example Selector\n",
    "\n",
    "from langchain.prompts.few_shot import (\n",
    "    FewShotPromptTemplate,\n",
    "    FewShotChatMessagePromptTemplate,\n",
    ")\n",
    "from langchain.prompts.example_selector import LengthBasedExampleSelector\n",
    "from langchain.prompts.example_selector.base import BaseExampleSelector\n",
    "\n",
    "examples = [\n",
    "    {\n",
    "        \"question\": \"What do you know about France?\",\n",
    "        \"answer\": \"\"\"\n",
    "Here is what I know:\n",
    "Capital: Paris\n",
    "Language: French\n",
    "Food: Wine and Cheese\n",
    "Currency: Euro\n",
    "\"\"\",\n",
    "    },\n",
    "    {\n",
    "        \"question\": \"What do you know about Italy?\",\n",
    "        \"answer\": \"\"\"\n",
    "I know this:\n",
    "Capital: Rome\n",
    "Language: Italian\n",
    "Food: Pizza and Pasta\n",
    "Currency: Euro\n",
    "\"\"\",\n",
    "    },\n",
    "    {\n",
    "        \"question\": \"What do you know about Greece?\",\n",
    "        \"answer\": \"\"\"\n",
    "I know this:\n",
    "Capital: Athens\n",
    "Language: Greek\n",
    "Food: Souvlaki and Feta Cheese\n",
    "Currency: Euro\n",
    "\"\"\",\n",
    "    },\n",
    "]\n",
    "\n",
    "\n",
    "class RandomExampleSelector(BaseExampleSelector):\n",
    "    def __init__(self, examples):\n",
    "        self.examples = examples\n",
    "\n",
    "    def add_example(self, example):\n",
    "        self.examples.append(example)\n",
    "\n",
    "    def select_examples(self, input_variables):\n",
    "        from random import choice\n",
    "\n",
    "        return [choice(self.examples)]\n",
    "\n",
    "\n",
    "template = \"Human: {question}\\nAI: {answer}\"\n",
    "prompt = PromptTemplate.from_template(template)\n",
    "selector = RandomExampleSelector(examples=examples)\n",
    "prompt = FewShotPromptTemplate(\n",
    "    example_prompt=prompt,\n",
    "    example_selector=selector,\n",
    "    suffix=\"Human: {question}\",\n",
    "    input_variables=[\"question\"],\n",
    ")\n",
    "\n",
    "chain = prompt | chat\n",
    "chain.invoke({\"question\": \"I wonder about Sweden\"})"
   ]
  },
  {
   "cell_type": "code",
   "execution_count": 8,
   "metadata": {},
   "outputs": [
    {
     "name": "stdout",
     "output_type": "stream",
     "text": [
      "I know this:\n",
      "Capital: Stockholm\n",
      "Language: Swedish\n",
      "Food: Meatballs and Herring\n",
      "Currency: Swedish Krona"
     ]
    },
    {
     "data": {
      "text/plain": [
       "AIMessageChunk(content='I know this:\\nCapital: Stockholm\\nLanguage: Swedish\\nFood: Meatballs and Herring\\nCurrency: Swedish Krona')"
      ]
     },
     "execution_count": 8,
     "metadata": {},
     "output_type": "execute_result"
    }
   ],
   "source": [
    "# FewShotChatMessagePromptTemplate\n",
    "\n",
    "examples = [\n",
    "    {\n",
    "        \"country\": \"France\",\n",
    "        \"answer\": \"\"\"\n",
    "Here is what I know:\n",
    "Capital: Paris\n",
    "Language: French\n",
    "Food: Wine and Cheese\n",
    "Currency: Euro\n",
    "\"\"\",\n",
    "    },\n",
    "    {\n",
    "        \"country\": \"Italy\",\n",
    "        \"answer\": \"\"\"\n",
    "I know this:\n",
    "Capital: Rome\n",
    "Language: Italian\n",
    "Food: Pizza and Pasta\n",
    "Currency: Euro\n",
    "\"\"\",\n",
    "    },\n",
    "    {\n",
    "        \"country\": \"Greece\",\n",
    "        \"answer\": \"\"\"\n",
    "I know this:\n",
    "Capital: Athens\n",
    "Language: Greek\n",
    "Food: Souvlaki and Feta Cheese\n",
    "Currency: Euro\n",
    "\"\"\",\n",
    "    },\n",
    "]\n",
    "\n",
    "prompt = ChatPromptTemplate.from_messages(\n",
    "    [(\"human\", \"What do you know about {country}?\"), (\"ai\", \"{answer}\")]\n",
    ")\n",
    "prompt = FewShotChatMessagePromptTemplate(\n",
    "    example_prompt=prompt,\n",
    "    examples=examples,\n",
    ")\n",
    "prompt = ChatPromptTemplate.from_messages(\n",
    "    [\n",
    "        (\"system\", \"You are a geography expert, you give short answers\"),\n",
    "        prompt,\n",
    "        (\"human\", \"What do you know about {country}?\"),\n",
    "    ]\n",
    ")\n",
    "\n",
    "chain = prompt | chat\n",
    "chain.invoke({\"country\": \"Sweden\"})"
   ]
  },
  {
   "cell_type": "code",
   "execution_count": 11,
   "metadata": {},
   "outputs": [
    {
     "name": "stdout",
     "output_type": "stream",
     "text": [
      "The capital of South Korea is Seoul."
     ]
    },
    {
     "data": {
      "text/plain": [
       "AIMessageChunk(content='The capital of South Korea is Seoul.')"
      ]
     },
     "execution_count": 11,
     "metadata": {},
     "output_type": "execute_result"
    }
   ],
   "source": [
    "# Load Prompt\n",
    "\n",
    "from langchain.prompts import load_prompt\n",
    "\n",
    "prompt = load_prompt(\"./prompt.yaml\")\n",
    "chain = prompt | chat\n",
    "chain.invoke({\"country\": \"South Korea\"})"
   ]
  },
  {
   "cell_type": "code",
   "execution_count": null,
   "metadata": {},
   "outputs": [],
   "source": []
  }
 ],
 "metadata": {
  "kernelspec": {
   "display_name": "env",
   "language": "python",
   "name": "python3"
  },
  "language_info": {
   "codemirror_mode": {
    "name": "ipython",
    "version": 3
   },
   "file_extension": ".py",
   "mimetype": "text/x-python",
   "name": "python",
   "nbconvert_exporter": "python",
   "pygments_lexer": "ipython3",
   "version": "3.11.6"
  }
 },
 "nbformat": 4,
 "nbformat_minor": 2
}
