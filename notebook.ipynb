{
 "cells": [
  {
   "cell_type": "code",
   "execution_count": 96,
   "metadata": {},
   "outputs": [],
   "source": [
    "from langchain.chat_models import ChatOpenAI\n",
    "from langchain.callbacks import StreamingStdOutCallbackHandler\n",
    "from langchain.prompts import PromptTemplate, ChatPromptTemplate\n",
    "\n",
    "chat = ChatOpenAI(streaming=True, callbacks=[StreamingStdOutCallbackHandler()])"
   ]
  },
  {
   "cell_type": "code",
   "execution_count": 97,
   "metadata": {},
   "outputs": [
    {
     "name": "stdout",
     "output_type": "stream",
     "text": [
      "There are several advantages of using Svelte:\n",
      "\n",
      "1. Performance: One of the main advantages of Svelte is its superior performance. Svelte compiles the code during the build process, resulting in a smaller bundle size and faster load times compared to other frameworks like React or Angular. This makes it ideal for building high-performance web applications.\n",
      "\n",
      "2. Framework size: Svelte is a lightweight framework, making it easy to learn and use. It has a smaller bundle size compared to other frameworks, resulting in faster downloads and improved performance.\n",
      "\n",
      "3. Easy learning curve: Svelte has a simple and intuitive syntax, making it easy to pick up, especially for developers who are already familiar with HTML, CSS, and JavaScript. The framework does not require an additional virtual DOM layer, reducing the learning curve and the amount of boilerplate code needed.\n",
      "\n",
      "4. Reactive updates: Svelte uses a reactive approach to update the DOM. Instead of relying on a virtual DOM, Svelte compiles the code into highly efficient imperative code that directly updates the DOM when the state changes. This results in faster and more efficient updates, leading to a smoother user experience.\n",
      "\n",
      "5. No runtime overhead: Unlike other frameworks, Svelte does not require a runtime library to be included in the final bundle. This means that the resulting application is smaller in size and does not require additional resources to run, resulting in faster load times and improved performance.\n",
      "\n",
      "Overall, the advantages of Svelte include better performance, smaller bundle size, easy learning curve, reactive updates, and no runtime overhead. These factors make Svelte an attractive choice for building modern web applications.안녕하세요! 저는 Next.js의 장점에 대해 설명해드리겠습니다. \n",
      "\n",
      "Next.js는 React 기반의 프레임워크로서 여러 가지 이점을 가지고 있습니다. 첫째, 서버 사이드 렌더링을 지원하여 초기 로딩 속도를 향상시킬 수 있습니다. 이는 검색 엔진 최적화(SEO)를 개선하고 사용자 경험을 향상시킬 수 있는 장점이 있습니다. \n",
      "\n",
      "둘째, 코드 스플리팅을 자동으로 처리하여 필요한 컴포넌트만 로드하므로 초기 페이지 로딩 속도가 개선됩니다. 이는 사용자가 웹 페이지를 더 빠르게 볼 수 있도록 도와줍니다. \n",
      "\n",
      "셋째, Hot Module Replacement(HMR)을 지원하여 개발 환경에서 실시간으로 코드 변경사항을 반영할 수 있습니다. 이는 개발 생산성을 향상시키고 빠른 반응이 필요한 프로젝트에 유용합니다.\n",
      "\n",
      "마지막으로, Next.js는 강력한 라우팅 시스템과 데이터 프리페칭 기능을 제공하여 개발자가 웹 애플리케이션의 라우팅 및 데이터 로딩을 쉽게 구현할 수 있습니다.\n",
      "\n",
      "제 이름은 OpenAI Assistant입니다. 도움이 필요하시면 언제든지 말씀해주세요!"
     ]
    },
    {
     "data": {
      "text/plain": [
       "AIMessageChunk(content='안녕하세요! 저는 Next.js의 장점에 대해 설명해드리겠습니다. \\n\\nNext.js는 React 기반의 프레임워크로서 여러 가지 이점을 가지고 있습니다. 첫째, 서버 사이드 렌더링을 지원하여 초기 로딩 속도를 향상시킬 수 있습니다. 이는 검색 엔진 최적화(SEO)를 개선하고 사용자 경험을 향상시킬 수 있는 장점이 있습니다. \\n\\n둘째, 코드 스플리팅을 자동으로 처리하여 필요한 컴포넌트만 로드하므로 초기 페이지 로딩 속도가 개선됩니다. 이는 사용자가 웹 페이지를 더 빠르게 볼 수 있도록 도와줍니다. \\n\\n셋째, Hot Module Replacement(HMR)을 지원하여 개발 환경에서 실시간으로 코드 변경사항을 반영할 수 있습니다. 이는 개발 생산성을 향상시키고 빠른 반응이 필요한 프로젝트에 유용합니다.\\n\\n마지막으로, Next.js는 강력한 라우팅 시스템과 데이터 프리페칭 기능을 제공하여 개발자가 웹 애플리케이션의 라우팅 및 데이터 로딩을 쉽게 구현할 수 있습니다.\\n\\n제 이름은 OpenAI Assistant입니다. 도움이 필요하시면 언제든지 말씀해주세요!')"
      ]
     },
     "execution_count": 97,
     "metadata": {},
     "output_type": "execute_result"
    }
   ],
   "source": [
    "# Predict\n",
    "\n",
    "template = PromptTemplate.from_template(\"What is the advantage of {frontend_stack}?\")\n",
    "prompt = template.format(frontend_stack=\"Svelte\")\n",
    "chat.predict(prompt)\n",
    "\n",
    "template = ChatPromptTemplate.from_messages(\n",
    "    [\n",
    "        (\"system\", \"You are a frontend expert. Also, you only reply in {language}\"),\n",
    "        (\"ai\", \"{tone}\"),\n",
    "        (\"human\", \"What is the advantage of {frontend_stack}? Also, What's your name?\"),\n",
    "    ]\n",
    ")\n",
    "prompt = template.format_messages(\n",
    "    language=\"Korean\", tone=\"안녕하세요!\", frontend_stack=\"Next.js\"\n",
    ")\n",
    "chat.predict_messages(prompt)"
   ]
  },
  {
   "cell_type": "code",
   "execution_count": 98,
   "metadata": {},
   "outputs": [
    {
     "data": {
      "text/plain": [
       "['Hello', 'how', 'are', 'you']"
      ]
     },
     "execution_count": 98,
     "metadata": {},
     "output_type": "execute_result"
    }
   ],
   "source": [
    "# Output Parser\n",
    "\n",
    "from langchain.schema import BaseOutputParser\n",
    "\n",
    "\n",
    "class CommaOutputParser(BaseOutputParser):\n",
    "    def parse(self, text):\n",
    "        return list(map(str.strip, text.split(\",\")))\n",
    "\n",
    "\n",
    "parser = CommaOutputParser()\n",
    "parser.parse(\" Hello, how,are,you \")"
   ]
  },
  {
   "cell_type": "code",
   "execution_count": 99,
   "metadata": {},
   "outputs": [
    {
     "name": "stdout",
     "output_type": "stream",
     "text": [
      "html, css, javascript, responsive design, user experience"
     ]
    },
    {
     "data": {
      "text/plain": [
       "['html', 'css', 'javascript', 'responsive design', 'user experience']"
      ]
     },
     "execution_count": 99,
     "metadata": {},
     "output_type": "execute_result"
    }
   ],
   "source": [
    "# Langchain Expression Language\n",
    "\n",
    "template = ChatPromptTemplate.from_messages(\n",
    "    [\n",
    "        (\n",
    "            \"system\",\n",
    "            \"You are a list generating machine. Everything you are asked will be answered with a comma separated list of max {max_items} in lowercase. Do NOT reply with anything else\",\n",
    "        ),\n",
    "        (\"human\", \"{question}\"),\n",
    "    ]\n",
    ")\n",
    "chain = template | chat | parser\n",
    "chain.invoke(\n",
    "    {\"max_items\": 5, \"question\": \"Interesting things about frontend development\"}\n",
    ")"
   ]
  },
  {
   "cell_type": "code",
   "execution_count": 100,
   "metadata": {},
   "outputs": [
    {
     "name": "stdout",
     "output_type": "stream",
     "text": [
      "That's great! Indian cuisine is known for its vibrant flavors and variety of spices. Let's start with a classic and popular dish called Chicken Tikka Masala. Here's an easy-to-follow recipe for you:\n",
      "\n",
      "Ingredients:\n",
      "- 500g boneless chicken, cut into bite-sized pieces\n",
      "- 1 cup plain yogurt\n",
      "- 2 tablespoons lemon juice\n",
      "- 2 tablespoons ginger-garlic paste (or minced ginger and garlic)\n",
      "- 1 tablespoon vegetable oil\n",
      "- 1 large onion, finely chopped\n",
      "- 2 teaspoons ground cumin\n",
      "- 2 teaspoons ground coriander\n",
      "- 1 teaspoon turmeric powder\n",
      "- 1 teaspoon paprika\n",
      "- 1 teaspoon garam masala\n",
      "- 1 cup tomato puree\n",
      "- 1 cup heavy cream\n",
      "- Salt, to taste\n",
      "- Fresh cilantro leaves, for garnish\n",
      "\n",
      "Instructions:\n",
      "1. In a bowl, combine the yogurt, lemon juice, and ginger-garlic paste. Add the chicken pieces and mix well to coat. Let it marinate for at least 30 minutes, or you can refrigerate it overnight for better flavor.\n",
      "\n",
      "2. Preheat your oven to 400°F (200°C). Place the marinated chicken pieces on a baking sheet lined with parchment paper. Bake for about 20-25 minutes or until the chicken is cooked through and slightly charred. You can also grill the chicken if you prefer.\n",
      "\n",
      "3. In a large pan, heat the vegetable oil over medium heat. Add the chopped onions and sauté until they turn golden brown.\n",
      "\n",
      "4. Reduce the heat to low and add the ground cumin, ground coriander, turmeric powder, paprika, and garam masala to the pan. Cook for a minute, stirring continuously to prevent burning.\n",
      "\n",
      "5. Add the tomato puree to the pan and cook for another 2-3 minutes, allowing the flavors to blend together.\n",
      "\n",
      "6. Pour in the heavy cream and season with salt according to your taste. Stir well and let it simmer for 5 minutes.\n",
      "\n",
      "7. Add the baked chicken tikka pieces to the sauce and simmer for an additional 5 minutes to allow the flavors to meld together.\n",
      "\n",
      "8. Garnish with fresh cilantro leaves and serve hot with steamed rice or naan bread.\n",
      "\n",
      "Enjoy your homemade Chicken Tikka Masala with its rich and creamy sauce!Great choice! Chicken Tikka Masala is a popular dish, and I can help you make a vegetarian version of it. Instead of using chicken, we can substitute it with a suitable vegetarian alternative like tofu or paneer (Indian cottage cheese). Here's how you can modify the recipe:\n",
      "\n",
      "Ingredients:\n",
      "- 500g tofu or paneer, cut into bite-sized pieces\n",
      "- 1 cup plain yogurt (you can use plant-based yogurt if you prefer)\n",
      "- 2 tablespoons lemon juice\n",
      "- 2 tablespoons ginger-garlic paste (or minced ginger and garlic)\n",
      "- 1 tablespoon vegetable oil\n",
      "- 1 large onion, finely chopped\n",
      "- 2 teaspoons ground cumin\n",
      "- 2 teaspoons ground coriander\n",
      "- 1 teaspoon turmeric powder\n",
      "- 1 teaspoon paprika\n",
      "- 1 teaspoon garam masala\n",
      "- 1 cup tomato puree\n",
      "- 1 cup plant-based cream (such as coconut cream or cashew cream)\n",
      "- Salt, to taste\n",
      "- Fresh cilantro leaves, for garnish\n",
      "\n",
      "Instructions:\n",
      "1. In a bowl, combine the yogurt, lemon juice, and ginger-garlic paste. Add the tofu or paneer pieces and mix well to coat. Let it marinate for at least 30 minutes, or you can refrigerate it overnight for better flavor.\n",
      "\n",
      "2. Preheat your oven to 400°F (200°C). Place the marinated tofu or paneer pieces on a baking sheet lined with parchment paper. Bake for about 20-25 minutes or until they are slightly charred. You can also pan-fry or grill them if you prefer.\n",
      "\n",
      "3. In a large pan, heat the vegetable oil over medium heat. Add the chopped onions and sauté until they turn golden brown.\n",
      "\n",
      "4. Reduce the heat to low and add the ground cumin, ground coriander, turmeric powder, paprika, and garam masala to the pan. Cook for a minute, stirring continuously to prevent burning.\n",
      "\n",
      "5. Add the tomato puree to the pan and cook for another 2-3 minutes, allowing the flavors to blend together.\n",
      "\n",
      "6. Pour in the plant-based cream and season with salt according to your taste. Stir well and let it simmer for 5 minutes.\n",
      "\n",
      "7. Add the baked tofu or paneer pieces to the sauce and simmer for an additional 5 minutes to allow the flavors to meld together.\n",
      "\n",
      "8. Garnish with fresh cilantro leaves and serve hot with steamed rice or naan bread.\n",
      "\n",
      "Now you have a delicious vegetarian version of Chicken Tikka Masala to enjoy!"
     ]
    },
    {
     "data": {
      "text/plain": [
       "AIMessageChunk(content=\"Great choice! Chicken Tikka Masala is a popular dish, and I can help you make a vegetarian version of it. Instead of using chicken, we can substitute it with a suitable vegetarian alternative like tofu or paneer (Indian cottage cheese). Here's how you can modify the recipe:\\n\\nIngredients:\\n- 500g tofu or paneer, cut into bite-sized pieces\\n- 1 cup plain yogurt (you can use plant-based yogurt if you prefer)\\n- 2 tablespoons lemon juice\\n- 2 tablespoons ginger-garlic paste (or minced ginger and garlic)\\n- 1 tablespoon vegetable oil\\n- 1 large onion, finely chopped\\n- 2 teaspoons ground cumin\\n- 2 teaspoons ground coriander\\n- 1 teaspoon turmeric powder\\n- 1 teaspoon paprika\\n- 1 teaspoon garam masala\\n- 1 cup tomato puree\\n- 1 cup plant-based cream (such as coconut cream or cashew cream)\\n- Salt, to taste\\n- Fresh cilantro leaves, for garnish\\n\\nInstructions:\\n1. In a bowl, combine the yogurt, lemon juice, and ginger-garlic paste. Add the tofu or paneer pieces and mix well to coat. Let it marinate for at least 30 minutes, or you can refrigerate it overnight for better flavor.\\n\\n2. Preheat your oven to 400°F (200°C). Place the marinated tofu or paneer pieces on a baking sheet lined with parchment paper. Bake for about 20-25 minutes or until they are slightly charred. You can also pan-fry or grill them if you prefer.\\n\\n3. In a large pan, heat the vegetable oil over medium heat. Add the chopped onions and sauté until they turn golden brown.\\n\\n4. Reduce the heat to low and add the ground cumin, ground coriander, turmeric powder, paprika, and garam masala to the pan. Cook for a minute, stirring continuously to prevent burning.\\n\\n5. Add the tomato puree to the pan and cook for another 2-3 minutes, allowing the flavors to blend together.\\n\\n6. Pour in the plant-based cream and season with salt according to your taste. Stir well and let it simmer for 5 minutes.\\n\\n7. Add the baked tofu or paneer pieces to the sauce and simmer for an additional 5 minutes to allow the flavors to meld together.\\n\\n8. Garnish with fresh cilantro leaves and serve hot with steamed rice or naan bread.\\n\\nNow you have a delicious vegetarian version of Chicken Tikka Masala to enjoy!\")"
      ]
     },
     "execution_count": 100,
     "metadata": {},
     "output_type": "execute_result"
    }
   ],
   "source": [
    "# Chaining Chains\n",
    "\n",
    "chef_prompt = ChatPromptTemplate.from_messages(\n",
    "    [\n",
    "        (\n",
    "            \"system\",\n",
    "            \"You are a world-class international chef. You create easy to follow recipes for any type of cuisine with easy to find ingredients.\",\n",
    "        ),\n",
    "        (\"human\", \"I want to cook {cuisine} food.\"),\n",
    "    ]\n",
    ")\n",
    "chef_chain = chef_prompt | chat\n",
    "\n",
    "veg_chef_prompt = ChatPromptTemplate.from_messages(\n",
    "    [\n",
    "        (\n",
    "            \"system\",\n",
    "            \"You are a vegetarian chef specialized on making traditional recipes vegetarian. You find alternative ingredients and explain their preparation. You don't radically modify the recipe. If there is no alternative for a food just say you don't know how to recipe it.\",\n",
    "        ),\n",
    "        (\"human\", \"{recipe}\"),\n",
    "    ]\n",
    ")\n",
    "veg_chef_chain = veg_chef_prompt | chat\n",
    "\n",
    "final_chain = {\"recipe\": chef_chain} | veg_chef_chain\n",
    "final_chain.invoke({\"cuisine\": \"indian\"})"
   ]
  },
  {
   "cell_type": "code",
   "execution_count": 101,
   "metadata": {},
   "outputs": [
    {
     "name": "stdout",
     "output_type": "stream",
     "text": [
      "AI: \n",
      "Sweden is a country located in Northern Europe. Some key information about Sweden includes:\n",
      "\n",
      "Capital: Stockholm\n",
      "Language: Swedish\n",
      "Currency: Swedish Krona\n",
      "Notable landmarks: Stockholm Palace, Vasa Museum, Icehotel in Jukkasjärvi\n",
      "Famous for: IKEA, ABBA, Volvo, and the Nobel Prize\n",
      "Nature: Sweden is known for its beautiful landscapes, including forests, lakes, and the Northern Lights (Aurora Borealis)\n",
      "Social welfare: Sweden is known for its high standard of living and welfare system\n",
      "Sports: Popular sports in Sweden include ice hockey, football (soccer), and cross-country skiing."
     ]
    },
    {
     "data": {
      "text/plain": [
       "AIMessageChunk(content='AI: \\nSweden is a country located in Northern Europe. Some key information about Sweden includes:\\n\\nCapital: Stockholm\\nLanguage: Swedish\\nCurrency: Swedish Krona\\nNotable landmarks: Stockholm Palace, Vasa Museum, Icehotel in Jukkasjärvi\\nFamous for: IKEA, ABBA, Volvo, and the Nobel Prize\\nNature: Sweden is known for its beautiful landscapes, including forests, lakes, and the Northern Lights (Aurora Borealis)\\nSocial welfare: Sweden is known for its high standard of living and welfare system\\nSports: Popular sports in Sweden include ice hockey, football (soccer), and cross-country skiing.')"
      ]
     },
     "execution_count": 101,
     "metadata": {},
     "output_type": "execute_result"
    }
   ],
   "source": [
    "# FewShotPromptTemplate\n",
    "\n",
    "from langchain.prompts.few_shot import (\n",
    "    FewShotPromptTemplate,\n",
    "    FewShotChatMessagePromptTemplate,\n",
    ")\n",
    "\n",
    "examples = [\n",
    "    {\n",
    "        \"question\": \"What do you know about France?\",\n",
    "        \"answer\": \"\"\"\n",
    "Here is what I know:\n",
    "Capital: Paris\n",
    "Language: French\n",
    "Food: Wine and Cheese\n",
    "Currency: Euro\n",
    "\"\"\",\n",
    "    },\n",
    "    {\n",
    "        \"question\": \"What do you know about Italy?\",\n",
    "        \"answer\": \"\"\"\n",
    "I know this:\n",
    "Capital: Rome\n",
    "Language: Italian\n",
    "Food: Pizza and Pasta\n",
    "Currency: Euro\n",
    "\"\"\",\n",
    "    },\n",
    "    {\n",
    "        \"question\": \"What do you know about Greece?\",\n",
    "        \"answer\": \"\"\"\n",
    "I know this:\n",
    "Capital: Athens\n",
    "Language: Greek\n",
    "Food: Souvlaki and Feta Cheese\n",
    "Currency: Euro\n",
    "\"\"\",\n",
    "    },\n",
    "]\n",
    "\n",
    "example_template = \"Human: {question}\\nAI: {answer}\"\n",
    "\n",
    "example_prompt = PromptTemplate.from_template(example_template)\n",
    "\n",
    "prompt = FewShotPromptTemplate(\n",
    "    example_prompt=example_prompt,\n",
    "    examples=examples,\n",
    "    suffix=\"Human: {question}\",\n",
    "    input_variables=[\"question\"],\n",
    ")\n",
    "\n",
    "chain = prompt | chat\n",
    "\n",
    "chain.invoke({\"question\": \"I wonder about Sweden\"})"
   ]
  },
  {
   "cell_type": "code",
   "execution_count": 102,
   "metadata": {},
   "outputs": [],
   "source": [
    "# FewShotChatMessagePromptTemplate"
   ]
  }
 ],
 "metadata": {
  "kernelspec": {
   "display_name": "env",
   "language": "python",
   "name": "python3"
  },
  "language_info": {
   "codemirror_mode": {
    "name": "ipython",
    "version": 3
   },
   "file_extension": ".py",
   "mimetype": "text/x-python",
   "name": "python",
   "nbconvert_exporter": "python",
   "pygments_lexer": "ipython3",
   "version": "3.11.6"
  }
 },
 "nbformat": 4,
 "nbformat_minor": 2
}
