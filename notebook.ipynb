{
 "cells": [
  {
   "cell_type": "code",
   "execution_count": 49,
   "metadata": {},
   "outputs": [
    {
     "name": "stdout",
     "output_type": "stream",
     "text": [
      "There are several advantages of using Svelte as a frontend framework:\n",
      "\n",
      "1. Performance: Svelte compiles components into highly efficient JavaScript code during build time, resulting in smaller bundle sizes and faster load times compared to other frameworks. It eliminates the need for a virtual DOM, which improves runtime performance.\n",
      "\n",
      "2. Smaller bundle sizes: Svelte's compiler generates highly optimized code, resulting in smaller bundle sizes. This is beneficial for users with slower internet connections or limited bandwidth.\n",
      "\n",
      "3. Easy learning curve: Svelte has a simpler and more intuitive syntax compared to other frontend frameworks. It focuses on the core concepts of web development, making it easier for beginners to learn and understand.\n",
      "\n",
      "4. Reactive programming: Svelte's reactivity system allows developers to declaratively define component behavior, making it easier to manage state and handle updates. This helps in writing clean and maintainable code.\n",
      "\n",
      "5. Framework agnostic: Svelte can be used independently as a standalone compiler without relying on a specific framework. It can be easily integrated into existing projects or used alongside other libraries and frameworks.\n",
      "\n",
      "6. SEO-friendly: Svelte generates static HTML files during the build process, which makes it more search engine friendly. This is beneficial for websites that require good search engine visibility.\n",
      "\n",
      "7. Better component encapsulation: Svelte allows for better encapsulation of components, making it easier to develop reusable and modular code. This improves code organization and maintainability.\n",
      "\n",
      "Overall, Svelte offers a combination of good performance, simplicity, and flexibility, making it a favorable choice for developing efficient and maintainable web applications."
     ]
    },
    {
     "data": {
      "text/plain": [
       "\"There are several advantages of using Svelte as a frontend framework:\\n\\n1. Performance: Svelte compiles components into highly efficient JavaScript code during build time, resulting in smaller bundle sizes and faster load times compared to other frameworks. It eliminates the need for a virtual DOM, which improves runtime performance.\\n\\n2. Smaller bundle sizes: Svelte's compiler generates highly optimized code, resulting in smaller bundle sizes. This is beneficial for users with slower internet connections or limited bandwidth.\\n\\n3. Easy learning curve: Svelte has a simpler and more intuitive syntax compared to other frontend frameworks. It focuses on the core concepts of web development, making it easier for beginners to learn and understand.\\n\\n4. Reactive programming: Svelte's reactivity system allows developers to declaratively define component behavior, making it easier to manage state and handle updates. This helps in writing clean and maintainable code.\\n\\n5. Framework agnostic: Svelte can be used independently as a standalone compiler without relying on a specific framework. It can be easily integrated into existing projects or used alongside other libraries and frameworks.\\n\\n6. SEO-friendly: Svelte generates static HTML files during the build process, which makes it more search engine friendly. This is beneficial for websites that require good search engine visibility.\\n\\n7. Better component encapsulation: Svelte allows for better encapsulation of components, making it easier to develop reusable and modular code. This improves code organization and maintainability.\\n\\nOverall, Svelte offers a combination of good performance, simplicity, and flexibility, making it a favorable choice for developing efficient and maintainable web applications.\""
      ]
     },
     "execution_count": 49,
     "metadata": {},
     "output_type": "execute_result"
    }
   ],
   "source": [
    "from langchain.chat_models import ChatOpenAI\n",
    "from langchain.prompts import PromptTemplate, ChatPromptTemplate\n",
    "from langchain.callbacks import StreamingStdOutCallbackHandler\n",
    "\n",
    "chat = ChatOpenAI(streaming=True, callbacks=[StreamingStdOutCallbackHandler()])\n",
    "\n",
    "template = PromptTemplate.from_template(\"What is the advantage of {frontend_stack}?\")\n",
    "\n",
    "prompt = template.format(frontend_stack=\"Svelte\")\n",
    "\n",
    "answer = chat.predict(prompt)\n",
    "\n",
    "answer"
   ]
  },
  {
   "cell_type": "code",
   "execution_count": 50,
   "metadata": {},
   "outputs": [
    {
     "name": "stdout",
     "output_type": "stream",
     "text": [
      "Next.js의 장점은 다음과 같습니다:\n",
      "\n",
      "1. 서버 사이드 렌더링(SSR): Next.js는 서버에서 페이지를 렌더링하여 초기 로딩 속도를 향상시킵니다. 이는 검색 엔진 최적화(SEO)에 도움이 되고, 사용자 경험을 향상시킵니다.\n",
      "\n",
      "2. 정적 사이트 생성(Static Site Generation, SSG): Next.js는 정적 사이트 생성을 지원하여 미리 렌더링된 페이지를 생성할 수 있습니다. 이를 통해 성능을 향상시키고, 캐싱을 통해 서버 부하를 줄일 수 있습니다.\n",
      "\n",
      "3. 개발 생산성: Next.js는 기본적으로 설정이 완료되어 있으며, 웹팩과 바벨 설정 등을 자동으로 처리해 줍니다. 또한, Hot Module Replacement(HMR) 기능을 제공하여 코드 수정 후 즉시 변경 사항을 확인할 수 있습니다.\n",
      "\n",
      "4. 확장성: Next.js는 기본적으로 React를 지원하며, 다양한 플러그인과 라이브러리를 사용할 수 있습니다. 또한, 서버리스 아키텍처를 지원하여 클라우드 서비스와의 통합이 용이합니다.\n",
      "\n",
      "제 이름은 OpenAI Assistant입니다. 도움이 필요하시면 언제든지 말씀해주세요!"
     ]
    },
    {
     "data": {
      "text/plain": [
       "AIMessageChunk(content='Next.js의 장점은 다음과 같습니다:\\n\\n1. 서버 사이드 렌더링(SSR): Next.js는 서버에서 페이지를 렌더링하여 초기 로딩 속도를 향상시킵니다. 이는 검색 엔진 최적화(SEO)에 도움이 되고, 사용자 경험을 향상시킵니다.\\n\\n2. 정적 사이트 생성(Static Site Generation, SSG): Next.js는 정적 사이트 생성을 지원하여 미리 렌더링된 페이지를 생성할 수 있습니다. 이를 통해 성능을 향상시키고, 캐싱을 통해 서버 부하를 줄일 수 있습니다.\\n\\n3. 개발 생산성: Next.js는 기본적으로 설정이 완료되어 있으며, 웹팩과 바벨 설정 등을 자동으로 처리해 줍니다. 또한, Hot Module Replacement(HMR) 기능을 제공하여 코드 수정 후 즉시 변경 사항을 확인할 수 있습니다.\\n\\n4. 확장성: Next.js는 기본적으로 React를 지원하며, 다양한 플러그인과 라이브러리를 사용할 수 있습니다. 또한, 서버리스 아키텍처를 지원하여 클라우드 서비스와의 통합이 용이합니다.\\n\\n제 이름은 OpenAI Assistant입니다. 도움이 필요하시면 언제든지 말씀해주세요!')"
      ]
     },
     "execution_count": 50,
     "metadata": {},
     "output_type": "execute_result"
    }
   ],
   "source": [
    "template = ChatPromptTemplate.from_messages(\n",
    "    [\n",
    "        (\"system\", \"You are a frontend expert. Also, you only reply in {language}\"),\n",
    "        (\"ai\", \"{tone}\"),\n",
    "        (\"human\", \"What is the advantage of {frontend_stack}? Also, What's your name?\"),\n",
    "    ]\n",
    ")\n",
    "\n",
    "prompt = template.format_messages(\n",
    "    language=\"Korean\", tone=\"안녕하세요!\", frontend_stack=\"Next.js\"\n",
    ")\n",
    "\n",
    "chat.predict_messages(prompt)"
   ]
  },
  {
   "cell_type": "code",
   "execution_count": 51,
   "metadata": {},
   "outputs": [
    {
     "data": {
      "text/plain": [
       "['Hello', 'how', 'are', 'you']"
      ]
     },
     "execution_count": 51,
     "metadata": {},
     "output_type": "execute_result"
    }
   ],
   "source": [
    "from langchain.schema import BaseOutputParser\n",
    "\n",
    "\n",
    "class CommaOutputParser(BaseOutputParser):\n",
    "    def parse(self, text):\n",
    "        return list(map(str.strip, text.split(\",\")))\n",
    "\n",
    "\n",
    "parser = CommaOutputParser()\n",
    "\n",
    "parser.parse(\" Hello, how,are,you \")"
   ]
  },
  {
   "cell_type": "code",
   "execution_count": 52,
   "metadata": {},
   "outputs": [],
   "source": [
    "template = ChatPromptTemplate.from_messages(\n",
    "    [\n",
    "        (\n",
    "            \"system\",\n",
    "            \"You are a list generating machine. Everything you are asked will be answered with a comma separated list of max {max_items} in lowercase. Do NOT reply with anything else\",\n",
    "        ),\n",
    "        (\"human\", \"{question}\"),\n",
    "    ]\n",
    ")"
   ]
  },
  {
   "cell_type": "code",
   "execution_count": 53,
   "metadata": {},
   "outputs": [
    {
     "name": "stdout",
     "output_type": "stream",
     "text": [
      "html, css, javascript, responsive design, user experience"
     ]
    },
    {
     "data": {
      "text/plain": [
       "['html', 'css', 'javascript', 'responsive design', 'user experience']"
      ]
     },
     "execution_count": 53,
     "metadata": {},
     "output_type": "execute_result"
    }
   ],
   "source": [
    "chain = template | chat | parser\n",
    "\n",
    "chain.invoke(\n",
    "    {\"max_items\": 5, \"question\": \"Interesting things about frontend development\"}\n",
    ")"
   ]
  },
  {
   "cell_type": "code",
   "execution_count": 54,
   "metadata": {},
   "outputs": [],
   "source": [
    "chef_prompt = ChatPromptTemplate.from_messages(\n",
    "    [\n",
    "        (\n",
    "            \"system\",\n",
    "            \"You are a world-class international chef. You create easy to follow recipies for any type of cuisine with easy to find ingredients.\",\n",
    "        ),\n",
    "        (\"human\", \"I want to cook {cuisine} food.\"),\n",
    "    ]\n",
    ")\n",
    "\n",
    "chef_chain = chef_prompt | chat"
   ]
  },
  {
   "cell_type": "code",
   "execution_count": 55,
   "metadata": {},
   "outputs": [
    {
     "name": "stdout",
     "output_type": "stream",
     "text": [
      "Great choice! Indian cuisine is known for its vibrant flavors and aromatic spices. Let's start with a classic Indian dish called Chicken Tikka Masala. Here's the recipe:\n",
      "\n",
      "Ingredients:\n",
      "- 500g boneless chicken, cut into bite-sized pieces\n",
      "- 1 cup plain yogurt\n",
      "- 2 tablespoons lemon juice\n",
      "- 2 tablespoons vegetable oil\n",
      "- 2 onions, finely chopped\n",
      "- 4 cloves garlic, minced\n",
      "- 1-inch piece ginger, grated\n",
      "- 2 teaspoons ground cumin\n",
      "- 2 teaspoons ground coriander\n",
      "- 1 teaspoon turmeric powder\n",
      "- 1 teaspoon paprika\n",
      "- 1 teaspoon garam masala\n",
      "- 1 teaspoon chili powder (adjust to taste)\n",
      "- 1 cup tomato puree\n",
      "- 1 cup heavy cream\n",
      "- Salt, to taste\n",
      "- Fresh cilantro, chopped (for garnish)\n",
      "\n",
      "Instructions:\n",
      "1. In a bowl, combine the yogurt, lemon juice, 1 teaspoon of ground cumin, 1 teaspoon of ground coriander, 1/2 teaspoon of turmeric powder, 1/2 teaspoon of paprika, and salt. Add the chicken pieces, mix well, and marinate for at least 1 hour (or overnight in the refrigerator).\n",
      "2. Preheat your oven to 400°F (200°C). Place the marinated chicken pieces on a baking sheet and bake for 20-25 minutes or until cooked through. Set aside.\n",
      "3. In a large pan, heat the vegetable oil over medium heat. Add the chopped onions and cook until golden brown.\n",
      "4. Add the minced garlic, grated ginger, remaining spices (1 teaspoon cumin, 1 teaspoon coriander, 1/2 teaspoon turmeric, 1/2 teaspoon paprika, garam masala, and chili powder), and cook for 1-2 minutes until fragrant.\n",
      "5. Stir in the tomato puree and cook for another 2 minutes.\n",
      "6. Reduce the heat to low and add the heavy cream. Simmer for 5 minutes, stirring occasionally.\n",
      "7. Add the baked chicken pieces to the sauce and simmer for an additional 10 minutes, allowing the flavors to meld together. Adjust salt and spices according to your taste.\n",
      "8. Serve the Chicken Tikka Masala over steamed rice or with naan bread. Garnish with freshly chopped cilantro.\n",
      "\n",
      "Enjoy the rich and flavorful Chicken Tikka Masala, a classic Indian favorite!To make a vegetarian version of Chicken Tikka Masala, we can replace the chicken with a plant-based protein alternative such as tofu or paneer (Indian cheese). Here's how you can adapt the recipe:\n",
      "\n",
      "Ingredients:\n",
      "- 500g tofu or paneer, cut into bite-sized pieces\n",
      "- 1 cup plain yogurt (you can use dairy-free yogurt if preferred)\n",
      "- 2 tablespoons lemon juice\n",
      "- 2 tablespoons vegetable oil\n",
      "- 2 onions, finely chopped\n",
      "- 4 cloves garlic, minced\n",
      "- 1-inch piece ginger, grated\n",
      "- 2 teaspoons ground cumin\n",
      "- 2 teaspoons ground coriander\n",
      "- 1 teaspoon turmeric powder\n",
      "- 1 teaspoon paprika\n",
      "- 1 teaspoon garam masala\n",
      "- 1 teaspoon chili powder (adjust to taste)\n",
      "- 1 cup tomato puree\n",
      "- 1 cup coconut milk (or dairy-free cream alternative)\n",
      "- Salt, to taste\n",
      "- Fresh cilantro, chopped (for garnish)\n",
      "\n",
      "Instructions:\n",
      "1. In a bowl, combine the yogurt, lemon juice, 1 teaspoon of ground cumin, 1 teaspoon of ground coriander, 1/2 teaspoon of turmeric powder, 1/2 teaspoon of paprika, and salt. Add the tofu or paneer pieces, mix well, and marinate for at least 1 hour (or overnight in the refrigerator).\n",
      "2. Preheat your oven to 400°F (200°C). Place the marinated tofu or paneer pieces on a baking sheet and bake for 20-25 minutes or until slightly golden. Set aside.\n",
      "3. In a large pan, heat the vegetable oil over medium heat. Add the chopped onions and cook until golden brown.\n",
      "4. Add the minced garlic, grated ginger, remaining spices (1 teaspoon cumin, 1 teaspoon coriander, 1/2 teaspoon turmeric, 1/2 teaspoon paprika, garam masala, and chili powder), and cook for 1-2 minutes until fragrant.\n",
      "5. Stir in the tomato puree and cook for another 2 minutes.\n",
      "6. Reduce the heat to low and add the coconut milk. Simmer for 5 minutes, stirring occasionally.\n",
      "7. Add the baked tofu or paneer pieces to the sauce and simmer for an additional 10 minutes, allowing the flavors to meld together. Adjust salt and spices according to your taste.\n",
      "8. Serve the Vegetarian Tikka Masala over steamed rice or with naan bread. Garnish with freshly chopped cilantro.\n",
      "\n",
      "Enjoy the rich and flavorful Vegetarian Tikka Masala, a delicious alternative to the classic Indian favorite!"
     ]
    },
    {
     "data": {
      "text/plain": [
       "AIMessageChunk(content=\"To make a vegetarian version of Chicken Tikka Masala, we can replace the chicken with a plant-based protein alternative such as tofu or paneer (Indian cheese). Here's how you can adapt the recipe:\\n\\nIngredients:\\n- 500g tofu or paneer, cut into bite-sized pieces\\n- 1 cup plain yogurt (you can use dairy-free yogurt if preferred)\\n- 2 tablespoons lemon juice\\n- 2 tablespoons vegetable oil\\n- 2 onions, finely chopped\\n- 4 cloves garlic, minced\\n- 1-inch piece ginger, grated\\n- 2 teaspoons ground cumin\\n- 2 teaspoons ground coriander\\n- 1 teaspoon turmeric powder\\n- 1 teaspoon paprika\\n- 1 teaspoon garam masala\\n- 1 teaspoon chili powder (adjust to taste)\\n- 1 cup tomato puree\\n- 1 cup coconut milk (or dairy-free cream alternative)\\n- Salt, to taste\\n- Fresh cilantro, chopped (for garnish)\\n\\nInstructions:\\n1. In a bowl, combine the yogurt, lemon juice, 1 teaspoon of ground cumin, 1 teaspoon of ground coriander, 1/2 teaspoon of turmeric powder, 1/2 teaspoon of paprika, and salt. Add the tofu or paneer pieces, mix well, and marinate for at least 1 hour (or overnight in the refrigerator).\\n2. Preheat your oven to 400°F (200°C). Place the marinated tofu or paneer pieces on a baking sheet and bake for 20-25 minutes or until slightly golden. Set aside.\\n3. In a large pan, heat the vegetable oil over medium heat. Add the chopped onions and cook until golden brown.\\n4. Add the minced garlic, grated ginger, remaining spices (1 teaspoon cumin, 1 teaspoon coriander, 1/2 teaspoon turmeric, 1/2 teaspoon paprika, garam masala, and chili powder), and cook for 1-2 minutes until fragrant.\\n5. Stir in the tomato puree and cook for another 2 minutes.\\n6. Reduce the heat to low and add the coconut milk. Simmer for 5 minutes, stirring occasionally.\\n7. Add the baked tofu or paneer pieces to the sauce and simmer for an additional 10 minutes, allowing the flavors to meld together. Adjust salt and spices according to your taste.\\n8. Serve the Vegetarian Tikka Masala over steamed rice or with naan bread. Garnish with freshly chopped cilantro.\\n\\nEnjoy the rich and flavorful Vegetarian Tikka Masala, a delicious alternative to the classic Indian favorite!\")"
      ]
     },
     "execution_count": 55,
     "metadata": {},
     "output_type": "execute_result"
    }
   ],
   "source": [
    "veg_chef_prompt = ChatPromptTemplate.from_messages(\n",
    "    [\n",
    "        (\n",
    "            \"system\",\n",
    "            \"You are a vegetarian chef specialized on making traditional recipes vegetarian. You find alternative ingredients and explain their preparation. You don't radically modify the recipe. If there is no alternative for a food just say you don't know how to recipe it.\",\n",
    "        ),\n",
    "        (\"human\", \"{recipe}\"),\n",
    "    ]\n",
    ")\n",
    "\n",
    "veg_chef_chain = veg_chef_prompt | chat\n",
    "\n",
    "final_chain = {\"recipe\": chef_chain} | veg_chef_chain\n",
    "\n",
    "final_chain.invoke({\"cuisine\": \"indian\"})"
   ]
  },
  {
   "cell_type": "code",
   "execution_count": null,
   "metadata": {},
   "outputs": [],
   "source": []
  }
 ],
 "metadata": {
  "kernelspec": {
   "display_name": "env",
   "language": "python",
   "name": "python3"
  },
  "language_info": {
   "codemirror_mode": {
    "name": "ipython",
    "version": 3
   },
   "file_extension": ".py",
   "mimetype": "text/x-python",
   "name": "python",
   "nbconvert_exporter": "python",
   "pygments_lexer": "ipython3",
   "version": "3.11.6"
  }
 },
 "nbformat": 4,
 "nbformat_minor": 2
}
