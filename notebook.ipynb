{
 "cells": [
  {
   "cell_type": "code",
   "execution_count": 8,
   "metadata": {},
   "outputs": [
    {
     "data": {
      "text/plain": [
       "'Svelte is a modern JavaScript framework that offers several advantages over other frameworks. Some of the main advantages of Svelte are:\\n\\n1. Performance: Svelte compiles the code during the build process, which means that the final output is highly optimized and does not require a large runtime library. This leads to faster load times and improved overall performance compared to other frameworks.\\n\\n2. Smaller bundle size: Since Svelte compiles the code into highly efficient JavaScript, the resulting bundle size is smaller compared to other frameworks. This is beneficial for users with limited bandwidth or slower internet connections, as it reduces the amount of data that needs to be downloaded.\\n\\n3. Easy learning curve: Svelte has a simpler and more intuitive syntax compared to other frameworks like React or Angular. This makes it easier for developers to learn and get started with building applications quickly.\\n\\n4. Reactive data binding: Svelte uses a reactive programming model, where changes to the application state automatically update the user interface. This allows for efficient and performant data binding without the need for complex state management libraries.\\n\\n5. Component-based architecture: Svelte follows a component-based architecture, allowing developers to build reusable and modular UI components. This promotes code reusability, maintainability, and scalability.\\n\\n6. Framework-agnostic: Svelte can be used as a standalone framework or integrated into existing projects. It does not require a specific build tool or development environment, making it flexible and adaptable to various project setups.\\n\\n7. Strong developer community: Although Svelte is a relatively new framework, it has gained a strong and active developer community. This means there are plenty of resources, tutorials, and community support available for developers using Svelte.\\n\\nOverall, Svelte offers a combination of performance, simplicity, and flexibility, making it an attractive choice for building web applications.'"
      ]
     },
     "execution_count": 8,
     "metadata": {},
     "output_type": "execute_result"
    }
   ],
   "source": [
    "from langchain.chat_models import ChatOpenAI\n",
    "from langchain.prompts import PromptTemplate, ChatPromptTemplate\n",
    "\n",
    "chat = ChatOpenAI()\n",
    "\n",
    "template = PromptTemplate.from_template(\"What is the advantage of {frontend_stack}?\")\n",
    "\n",
    "prompt = template.format(frontend_stack=\"Svelte\")\n",
    "\n",
    "answer = chat.predict(prompt)\n",
    "\n",
    "answer"
   ]
  },
  {
   "cell_type": "code",
   "execution_count": 9,
   "metadata": {},
   "outputs": [
    {
     "data": {
      "text/plain": [
       "AIMessage(content='안녕하세요! 저는 Next.js의 장점에 대해 설명해 드리겠습니다.\\n\\n1. 서버 사이드 렌더링 (SSR): Next.js는 서버 사이드 렌더링을 지원하여 초기 로딩 속도를 향상시킵니다. 이는 사용자에게 빠른 페이지 로딩 속도와 검색 엔진 최적화(SEO)를 제공합니다.\\n\\n2. 정적 사이트 생성 (SSG): Next.js는 정적 사이트 생성을 지원하여 사전 렌더링된 페이지를 제공할 수 있습니다. 이를 통해 사용자에게 빠른 페이지 전환 속도와 안정적인 성능을 제공할 수 있습니다.\\n\\n3. 개발 생산성: Next.js는 자동으로 코드 스플리팅, 라우팅, 상태 관리 등을 처리하여 개발 생산성을 높여줍니다. 또한, 공식 문서와 커뮤니티의 지원이 뛰어나기 때문에 개발자가 빠르게 문제를 해결할 수 있습니다.\\n\\n4. 다양한 환경 지원: Next.js는 서버리스 및 마이크로서비스 아키텍처, 혼합형 앱 등 다양한 환경에서 사용할 수 있습니다. 또한, 강력한 확장성을 제공하여 대규모 애플리케이션에 적합합니다.\\n\\n제 이름은 AI 어시스턴트이므로 이름을 갖고 있지는 않습니다. 어떤 도움이 필요하신가요?')"
      ]
     },
     "execution_count": 9,
     "metadata": {},
     "output_type": "execute_result"
    }
   ],
   "source": [
    "template = ChatPromptTemplate.from_messages(\n",
    "    [\n",
    "        (\"system\", \"You are a frontend expert. Also, you only reply in {language}\"),\n",
    "        (\"ai\", \"{tone}\"),\n",
    "        (\"human\", \"What is the advantage of {frontend_stack}? Also, What's your name?\"),\n",
    "    ]\n",
    ")\n",
    "\n",
    "prompt = template.format_messages(\n",
    "    language=\"Korean\", tone=\"안녕하세요!\", frontend_stack=\"Next.js\"\n",
    ")\n",
    "\n",
    "chat.predict_messages(prompt)"
   ]
  },
  {
   "cell_type": "code",
   "execution_count": null,
   "metadata": {},
   "outputs": [],
   "source": []
  }
 ],
 "metadata": {
  "kernelspec": {
   "display_name": "env",
   "language": "python",
   "name": "python3"
  },
  "language_info": {
   "codemirror_mode": {
    "name": "ipython",
    "version": 3
   },
   "file_extension": ".py",
   "mimetype": "text/x-python",
   "name": "python",
   "nbconvert_exporter": "python",
   "pygments_lexer": "ipython3",
   "version": "3.11.6"
  }
 },
 "nbformat": 4,
 "nbformat_minor": 2
}
